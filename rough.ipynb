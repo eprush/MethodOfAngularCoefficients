{
 "cells": [
  {
   "cell_type": "code",
   "execution_count": 1,
   "id": "40d7cd37",
   "metadata": {},
   "outputs": [],
   "source": [
    "import math\n",
    "import numpy as np"
   ]
  },
  {
   "cell_type": "code",
   "execution_count": 2,
   "id": "9cebdb24",
   "metadata": {},
   "outputs": [],
   "source": [
    "class Tube:\n",
    "    def __init__(L):\n",
    "        self.L = L\n",
    "        \n",
    "    def no_splitting(self) -> float:\n",
    "        phi_12 = self.coaxial(self.L)\n",
    "        phi_21 = phi_12\n",
    "        phi_11, phi_22 = 0, 0\n",
    "        phi_13 = 1 - phi_11 - phi_12\n",
    "        phi_23 = 1 - phi_21 - phi_22\n",
    "        \n",
    "        phi_31 = phi_13 * self.area_1() / self.area_3(self.L)\n",
    "        phi_32 = phi_31\n",
    "        phi_33 = 1 - phi_31 - phi_32\n",
    "        \n",
    "        k = phi_12 + phi_13 * phi_32 / ( 1 - phi_33 )\n",
    "        return k\n",
    "    \n",
    "    def splitting(self, l_1 : int = 2, l_2 : int = 2) -> float:\n",
    "        phi_11, phi_55 = 0, 0\n",
    "        phi_15 = self.coaxial(self.L/2, l_1, l_2)\n",
    "        phi_51 = phi_15\n",
    "        phi_13 = 1 - phi_11 - phi_15\n",
    "\n",
    "        phi_31 = phi_13 * self.area_1() / self.area_3(self.L/2)\n",
    "        phi_35 = phi_31\n",
    "        phi_33 = 1 - phi_31 - phi_35\n",
    "        phi_53 = 1 - phi_55 - phi_51\n",
    "        \n",
    "        phi_22 = 0\n",
    "        phi_52, phi_25 = phi_15, phi_15\n",
    "        phi_54 = phi_13\n",
    "\n",
    "        phi_45, phi_42 = phi_31, phi_31\n",
    "        phi_44 = phi_33\n",
    "        phi_24 = phi_53\n",
    "        \n",
    "        x = phi_54*phi_42/(1 - phi_44) + phi_52\n",
    "        y = phi_13*phi_35/(1 - phi_33) + phi_15\n",
    "        z = 1 - phi_53*phi_35/(1 - phi_33) * phi_54*phi_45/(1 - phi_44)\n",
    "        k = x*y/z\n",
    "        return k"
   ]
  },
  {
   "cell_type": "code",
   "execution_count": 3,
   "id": "e47f3073",
   "metadata": {},
   "outputs": [],
   "source": [
    "class Rectangular(Tube):\n",
    "    def __init__(self, a, b, L):\n",
    "        self.a = a\n",
    "        self.b = b\n",
    "        self.L = L\n",
    "    \n",
    "    def coaxial_rectangle(self, s, l_1 : int, l_2 : int) -> float:\n",
    "        k = 0\n",
    "        F_2 = self.a*self.b/(l_1*l_2)\n",
    "        for i_1 in range(l_1):\n",
    "            x_1 = self.b/(2*l_1) + self.b/l_1*i_1\n",
    "            for j_1 in range(l_2):\n",
    "                y_1 = self.a/(2*l_2) + self.a/l_2*j_1\n",
    "                for i_2 in range(l_1):\n",
    "                    x_2 = self.b/(2*l_1) + self.b/l_1*i_2\n",
    "                    for j_2 in range(l_2):\n",
    "                        y_2      = self.a/(2*l_2) + self.a/l_2*j_2\n",
    "                        square_r = s**2 + (abs(x_1 - x_2))**2 + abs((y_1 - y_2))**2\n",
    "                        cos_1    = s/math.sqrt(square_r)\n",
    "                        cos_2    = cos_1\n",
    "                        k += cos_1*cos_2/(math.pi*square_r)\n",
    "        k *= F_2\n",
    "        return k\n",
    "    \n",
    "    def coaxial(self, s, l_1 = 2, l_2 = 2):\n",
    "        return self.coaxial_rectangle(s, l_1, l_2)\n",
    "    \n",
    "    def area_1(self):\n",
    "        return self.a*self.b\n",
    "    \n",
    "    def area_3(self, s):\n",
    "        return 2*(self.a+self.b)*s"
   ]
  },
  {
   "cell_type": "code",
   "execution_count": 4,
   "id": "22b39d95",
   "metadata": {},
   "outputs": [],
   "source": [
    "#Rectangular(1,1,1).no_splitting()"
   ]
  },
  {
   "cell_type": "code",
   "execution_count": 5,
   "id": "240be7fd",
   "metadata": {},
   "outputs": [
    {
     "data": {
      "text/plain": [
       "3.2164309952313084"
      ]
     },
     "execution_count": 5,
     "metadata": {},
     "output_type": "execute_result"
    }
   ],
   "source": [
    "Rectangular(1,1,1).splitting()"
   ]
  },
  {
   "cell_type": "code",
   "execution_count": 6,
   "id": "c53f5723",
   "metadata": {},
   "outputs": [
    {
     "data": {
      "text/plain": [
       "2.051330377628873"
      ]
     },
     "execution_count": 6,
     "metadata": {},
     "output_type": "execute_result"
    }
   ],
   "source": [
    "Rectangular(1,1,1).coaxial(1/2)"
   ]
  },
  {
   "cell_type": "code",
   "execution_count": 7,
   "id": "06beb54c",
   "metadata": {},
   "outputs": [
    {
     "data": {
      "text/plain": [
       "2.051330377628873"
      ]
     },
     "execution_count": 7,
     "metadata": {},
     "output_type": "execute_result"
    }
   ],
   "source": [
    "Rectangular(1,1,1).coaxial_rectangle(1/2,2,2)"
   ]
  },
  {
   "cell_type": "code",
   "execution_count": null,
   "id": "a01117a4",
   "metadata": {},
   "outputs": [],
   "source": []
  }
 ],
 "metadata": {
  "kernelspec": {
   "display_name": "Python 3 (ipykernel)",
   "language": "python",
   "name": "python3"
  },
  "language_info": {
   "codemirror_mode": {
    "name": "ipython",
    "version": 3
   },
   "file_extension": ".py",
   "mimetype": "text/x-python",
   "name": "python",
   "nbconvert_exporter": "python",
   "pygments_lexer": "ipython3",
   "version": "3.9.7"
  }
 },
 "nbformat": 4,
 "nbformat_minor": 5
}
