{
 "cells": [
  {
   "cell_type": "markdown",
   "id": "a20a2748",
   "metadata": {},
   "source": [
    "# Расчет проводимости трубопроводов с помощью МУК"
   ]
  },
  {
   "cell_type": "code",
   "execution_count": 1,
   "id": "745be120",
   "metadata": {},
   "outputs": [],
   "source": [
    "from rectangular.rectangular import RectangleSeparator\n",
    "from graph      import customize_graph, save_graph\n",
    "from matplotlib import pyplot as plt\n",
    "from tube       import Tube\n",
    "import numpy as np"
   ]
  },
  {
   "cell_type": "markdown",
   "id": "6d49634c",
   "metadata": {},
   "source": [
    "# Зависимость от размера ячейки и от длины"
   ]
  },
  {
   "cell_type": "code",
   "execution_count": 2,
   "id": "8cbcb554",
   "metadata": {},
   "outputs": [],
   "source": [
    "#ф-ция строит кривую на графике\n",
    "def lines(x, k, name):\n",
    "    plt.scatter(x, k, marker=\"o\", label= name)\n",
    "    return\n",
    "\n",
    "def calc_cells(b):\n",
    "    x   = np.array([0.02, 0.05, 0.1, 0.2])**2\n",
    "    res = []\n",
    "    for cell in x:\n",
    "        tube = Tube(RectangleSeparator(1,b,1,cell))\n",
    "        k = tube.calc_clausing(tube.create_sle())\n",
    "        res.append(k)\n",
    "    return res\n",
    "\n",
    "def calc_y(b):\n",
    "    def depend_L(b, cell):\n",
    "        x   = np.linspace(1,10,10)\n",
    "        res = []\n",
    "        for L in x:\n",
    "            tube = Tube(RectangleSeparator(1,b,L,cell))\n",
    "            k = tube.calc_clausing(tube.create_sle())\n",
    "            res.append(k)\n",
    "        return res\n",
    "\n",
    "    y = []\n",
    "    for i in [0.1, 0.05]:\n",
    "        y.append(depend_L(b,i**2))\n",
    "    return y"
   ]
  },
  {
   "cell_type": "code",
   "execution_count": 3,
   "id": "f145385d",
   "metadata": {},
   "outputs": [],
   "source": [
    "#ф-ция строит, называет,\n",
    "#выводит и сохраняет график\n",
    "def draw_L(y, b):\n",
    "    x = np.linspace(1,10,10)\n",
    "    customize_graph(\"Проводимость в прямоугольном сечении при b = \" + str(b),\"L/a\")\n",
    "    plt.scatter(x,y[0],marker=\"o\",label= \"С шагом 0.1\")\n",
    "    plt.plot(x,y[0])\n",
    "    plt.scatter(x,y[1],marker=\"o\",label= \"С шагом 0.05\")\n",
    "    plt.plot(x,y[1])\n",
    "    plt.legend()\n",
    "    \n",
    "    dirname = os.getcwd()\n",
    "    folder_path = os.path.join(dirname, \"rectangular\",\"Media\") \n",
    "    save_graph(\"b\" + str(b) + \".png\",foldert_path)\n",
    "    plt.show()\n",
    "    return\n",
    "\n",
    "def draw_cells(y,b):\n",
    "    x = np.array([0.02, 0.05, 0.1, 0.2])**2\n",
    "    customize_graph(\"Проводимость в прямоугольном сечении при b = \" + str(b),\"Площадь ячейки\")\n",
    "    plt.plot(x,y,marker=\"o\")\n",
    "    dirname = os.getcwd()\n",
    "    folder_path = os.path.join(dirname, \"rectangular\",\"Media\") \n",
    "    save_graph(\"b\" + str(b) + \"cells.png\", folder_path)\n",
    "    plt.show()\n",
    "    return"
   ]
  },
  {
   "cell_type": "code",
   "execution_count": 4,
   "id": "a1946475",
   "metadata": {},
   "outputs": [
    {
     "ename": "IndexError",
     "evalue": "invalid index to scalar variable.",
     "output_type": "error",
     "traceback": [
      "\u001b[1;31m---------------------------------------------------------------------------\u001b[0m",
      "\u001b[1;31mIndexError\u001b[0m                                Traceback (most recent call last)",
      "\u001b[1;32m~\\AppData\\Local\\Temp/ipykernel_17220/3952040443.py\u001b[0m in \u001b[0;36m<module>\u001b[1;34m\u001b[0m\n\u001b[0;32m      1\u001b[0m \u001b[1;32mfor\u001b[0m \u001b[0mb\u001b[0m \u001b[1;32min\u001b[0m \u001b[1;33m[\u001b[0m\u001b[1;36m1\u001b[0m\u001b[1;33m,\u001b[0m\u001b[1;36m5\u001b[0m\u001b[1;33m]\u001b[0m\u001b[1;33m:\u001b[0m\u001b[1;33m\u001b[0m\u001b[1;33m\u001b[0m\u001b[0m\n\u001b[1;32m----> 2\u001b[1;33m     \u001b[0my\u001b[0m \u001b[1;33m=\u001b[0m \u001b[0mcalc_y\u001b[0m\u001b[1;33m(\u001b[0m\u001b[0mb\u001b[0m\u001b[1;33m)\u001b[0m\u001b[1;33m\u001b[0m\u001b[1;33m\u001b[0m\u001b[0m\n\u001b[0m\u001b[0;32m      3\u001b[0m     \u001b[0mdraw_L\u001b[0m\u001b[1;33m(\u001b[0m\u001b[0my\u001b[0m\u001b[1;33m,\u001b[0m\u001b[0mb\u001b[0m\u001b[1;33m)\u001b[0m\u001b[1;33m\u001b[0m\u001b[1;33m\u001b[0m\u001b[0m\n",
      "\u001b[1;32m~\\AppData\\Local\\Temp/ipykernel_17220/3051971748.py\u001b[0m in \u001b[0;36mcalc_y\u001b[1;34m(b)\u001b[0m\n\u001b[0;32m     25\u001b[0m     \u001b[0my\u001b[0m \u001b[1;33m=\u001b[0m \u001b[1;33m[\u001b[0m\u001b[1;33m]\u001b[0m\u001b[1;33m\u001b[0m\u001b[1;33m\u001b[0m\u001b[0m\n\u001b[0;32m     26\u001b[0m     \u001b[1;32mfor\u001b[0m \u001b[0mi\u001b[0m \u001b[1;32min\u001b[0m \u001b[1;33m[\u001b[0m\u001b[1;36m0.1\u001b[0m\u001b[1;33m,\u001b[0m \u001b[1;36m0.05\u001b[0m\u001b[1;33m]\u001b[0m\u001b[1;33m:\u001b[0m\u001b[1;33m\u001b[0m\u001b[1;33m\u001b[0m\u001b[0m\n\u001b[1;32m---> 27\u001b[1;33m         \u001b[0my\u001b[0m\u001b[1;33m.\u001b[0m\u001b[0mappend\u001b[0m\u001b[1;33m(\u001b[0m\u001b[0mdepend_L\u001b[0m\u001b[1;33m(\u001b[0m\u001b[0mb\u001b[0m\u001b[1;33m,\u001b[0m\u001b[0mi\u001b[0m\u001b[1;33m**\u001b[0m\u001b[1;36m2\u001b[0m\u001b[1;33m)\u001b[0m\u001b[1;33m)\u001b[0m\u001b[1;33m\u001b[0m\u001b[1;33m\u001b[0m\u001b[0m\n\u001b[0m\u001b[0;32m     28\u001b[0m     \u001b[1;32mreturn\u001b[0m \u001b[0my\u001b[0m\u001b[1;33m\u001b[0m\u001b[1;33m\u001b[0m\u001b[0m\n",
      "\u001b[1;32m~\\AppData\\Local\\Temp/ipykernel_17220/3051971748.py\u001b[0m in \u001b[0;36mdepend_L\u001b[1;34m(b, cell)\u001b[0m\n\u001b[0;32m     19\u001b[0m         \u001b[1;32mfor\u001b[0m \u001b[0mL\u001b[0m \u001b[1;32min\u001b[0m \u001b[0mx\u001b[0m\u001b[1;33m:\u001b[0m\u001b[1;33m\u001b[0m\u001b[1;33m\u001b[0m\u001b[0m\n\u001b[0;32m     20\u001b[0m             \u001b[0mtube\u001b[0m \u001b[1;33m=\u001b[0m \u001b[0mTube\u001b[0m\u001b[1;33m(\u001b[0m\u001b[0mRectangleSeparator\u001b[0m\u001b[1;33m(\u001b[0m\u001b[1;36m1\u001b[0m\u001b[1;33m,\u001b[0m\u001b[0mb\u001b[0m\u001b[1;33m,\u001b[0m\u001b[0mL\u001b[0m\u001b[1;33m,\u001b[0m\u001b[0mcell\u001b[0m\u001b[1;33m)\u001b[0m\u001b[1;33m)\u001b[0m\u001b[1;33m\u001b[0m\u001b[1;33m\u001b[0m\u001b[0m\n\u001b[1;32m---> 21\u001b[1;33m             \u001b[0mk\u001b[0m \u001b[1;33m=\u001b[0m \u001b[0mtube\u001b[0m\u001b[1;33m.\u001b[0m\u001b[0mcalc_clausing\u001b[0m\u001b[1;33m(\u001b[0m\u001b[0mtube\u001b[0m\u001b[1;33m.\u001b[0m\u001b[0mcreate_sle\u001b[0m\u001b[1;33m(\u001b[0m\u001b[1;33m)\u001b[0m\u001b[1;33m)\u001b[0m\u001b[1;33m\u001b[0m\u001b[1;33m\u001b[0m\u001b[0m\n\u001b[0m\u001b[0;32m     22\u001b[0m             \u001b[0mres\u001b[0m\u001b[1;33m.\u001b[0m\u001b[0mappend\u001b[0m\u001b[1;33m(\u001b[0m\u001b[0mk\u001b[0m\u001b[1;33m)\u001b[0m\u001b[1;33m\u001b[0m\u001b[1;33m\u001b[0m\u001b[0m\n\u001b[0;32m     23\u001b[0m         \u001b[1;32mreturn\u001b[0m \u001b[0mres\u001b[0m\u001b[1;33m\u001b[0m\u001b[1;33m\u001b[0m\u001b[0m\n",
      "\u001b[1;32m~\\MethodOfAngularCoefficients\\tube.py\u001b[0m in \u001b[0;36mcalc_clausing\u001b[1;34m(self, sle)\u001b[0m\n\u001b[0;32m     83\u001b[0m             \u001b[0mpos\u001b[0m \u001b[1;33m=\u001b[0m \u001b[0mself\u001b[0m\u001b[1;33m.\u001b[0m\u001b[0mfind_pos\u001b[0m\u001b[1;33m(\u001b[0m\u001b[0mside\u001b[0m\u001b[1;33m)\u001b[0m\u001b[1;33m\u001b[0m\u001b[1;33m\u001b[0m\u001b[0m\n\u001b[0;32m     84\u001b[0m             \u001b[1;32mfor\u001b[0m \u001b[0mcollector_i\u001b[0m \u001b[1;32min\u001b[0m \u001b[0mrange\u001b[0m\u001b[1;33m(\u001b[0m\u001b[0mself\u001b[0m\u001b[1;33m.\u001b[0m\u001b[0mseparator\u001b[0m\u001b[1;33m.\u001b[0m\u001b[0mfind_num_cells\u001b[0m\u001b[1;33m(\u001b[0m\u001b[0moutput_side\u001b[0m\u001b[1;33m)\u001b[0m\u001b[1;33m)\u001b[0m\u001b[1;33m:\u001b[0m\u001b[1;33m\u001b[0m\u001b[1;33m\u001b[0m\u001b[0m\n\u001b[1;32m---> 85\u001b[1;33m                 res += sum([sle[side][emitter_i][output_side][collector_i] * density_flows[pos + emitter_i]\n\u001b[0m\u001b[0;32m     86\u001b[0m                             for emitter_i in range(self.separator.find_num_cells(side))])\n\u001b[0;32m     87\u001b[0m         \u001b[1;32mreturn\u001b[0m \u001b[0mres\u001b[0m \u001b[1;33m*\u001b[0m \u001b[0mself\u001b[0m\u001b[1;33m.\u001b[0m\u001b[0mseparator\u001b[0m\u001b[1;33m.\u001b[0m\u001b[0mcell\u001b[0m\u001b[1;33m\u001b[0m\u001b[1;33m\u001b[0m\u001b[0m\n",
      "\u001b[1;32m~\\MethodOfAngularCoefficients\\tube.py\u001b[0m in \u001b[0;36m<listcomp>\u001b[1;34m(.0)\u001b[0m\n\u001b[0;32m     83\u001b[0m             \u001b[0mpos\u001b[0m \u001b[1;33m=\u001b[0m \u001b[0mself\u001b[0m\u001b[1;33m.\u001b[0m\u001b[0mfind_pos\u001b[0m\u001b[1;33m(\u001b[0m\u001b[0mside\u001b[0m\u001b[1;33m)\u001b[0m\u001b[1;33m\u001b[0m\u001b[1;33m\u001b[0m\u001b[0m\n\u001b[0;32m     84\u001b[0m             \u001b[1;32mfor\u001b[0m \u001b[0mcollector_i\u001b[0m \u001b[1;32min\u001b[0m \u001b[0mrange\u001b[0m\u001b[1;33m(\u001b[0m\u001b[0mself\u001b[0m\u001b[1;33m.\u001b[0m\u001b[0mseparator\u001b[0m\u001b[1;33m.\u001b[0m\u001b[0mfind_num_cells\u001b[0m\u001b[1;33m(\u001b[0m\u001b[0moutput_side\u001b[0m\u001b[1;33m)\u001b[0m\u001b[1;33m)\u001b[0m\u001b[1;33m:\u001b[0m\u001b[1;33m\u001b[0m\u001b[1;33m\u001b[0m\u001b[0m\n\u001b[1;32m---> 85\u001b[1;33m                 res += sum([sle[side][emitter_i][output_side][collector_i] * density_flows[pos + emitter_i]\n\u001b[0m\u001b[0;32m     86\u001b[0m                             for emitter_i in range(self.separator.find_num_cells(side))])\n\u001b[0;32m     87\u001b[0m         \u001b[1;32mreturn\u001b[0m \u001b[0mres\u001b[0m \u001b[1;33m*\u001b[0m \u001b[0mself\u001b[0m\u001b[1;33m.\u001b[0m\u001b[0mseparator\u001b[0m\u001b[1;33m.\u001b[0m\u001b[0mcell\u001b[0m\u001b[1;33m\u001b[0m\u001b[1;33m\u001b[0m\u001b[0m\n",
      "\u001b[1;31mIndexError\u001b[0m: invalid index to scalar variable."
     ]
    }
   ],
   "source": [
    "for b in [1,5]:\n",
    "    y = calc_y(b)\n",
    "    draw_L(y,b)"
   ]
  },
  {
   "cell_type": "code",
   "execution_count": null,
   "id": "257e2c64",
   "metadata": {},
   "outputs": [],
   "source": [
    "for b in [1,5]:\n",
    "    y = calc_cells(b)\n",
    "    draw_cells(y,b)"
   ]
  }
 ],
 "metadata": {
  "kernelspec": {
   "display_name": "Python 3 (ipykernel)",
   "language": "python",
   "name": "python3"
  },
  "language_info": {
   "codemirror_mode": {
    "name": "ipython",
    "version": 3
   },
   "file_extension": ".py",
   "mimetype": "text/x-python",
   "name": "python",
   "nbconvert_exporter": "python",
   "pygments_lexer": "ipython3",
   "version": "3.9.7"
  }
 },
 "nbformat": 4,
 "nbformat_minor": 5
}
