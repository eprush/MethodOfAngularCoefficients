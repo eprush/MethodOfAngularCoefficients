{
 "cells": [
  {
   "cell_type": "markdown",
   "id": "5c675bef",
   "metadata": {},
   "source": [
    "# Расчет проводимости трубопроводов с помощью МУК"
   ]
  },
  {
   "cell_type": "code",
   "execution_count": 1,
   "id": "40d7cd37",
   "metadata": {},
   "outputs": [
    {
     "ename": "ImportError",
     "evalue": "attempted relative import with no known parent package",
     "output_type": "error",
     "traceback": [
      "\u001b[1;31m---------------------------------------------------------------------------\u001b[0m",
      "\u001b[1;31mImportError\u001b[0m                               Traceback (most recent call last)",
      "\u001b[1;32m~\\AppData\\Local\\Temp/ipykernel_8632/712832339.py\u001b[0m in \u001b[0;36m<module>\u001b[1;34m\u001b[0m\n\u001b[1;32m----> 1\u001b[1;33m \u001b[1;32mfrom\u001b[0m \u001b[1;33m.\u001b[0m\u001b[0mgraph\u001b[0m       \u001b[1;32mimport\u001b[0m \u001b[0msave_graph\u001b[0m\u001b[1;33m,\u001b[0m \u001b[0mcustomize_graph\u001b[0m\u001b[1;33m\u001b[0m\u001b[1;33m\u001b[0m\u001b[0m\n\u001b[0m\u001b[0;32m      2\u001b[0m \u001b[1;32mfrom\u001b[0m \u001b[1;33m.\u001b[0m\u001b[0mrectangular\u001b[0m\u001b[1;33m.\u001b[0m\u001b[0mrectangular\u001b[0m \u001b[1;32mimport\u001b[0m \u001b[0mRectangleSeparator\u001b[0m\u001b[1;33m\u001b[0m\u001b[1;33m\u001b[0m\u001b[0m\n\u001b[0;32m      3\u001b[0m \u001b[1;32mfrom\u001b[0m \u001b[1;33m.\u001b[0m\u001b[0mtube\u001b[0m        \u001b[1;32mimport\u001b[0m \u001b[0mTube\u001b[0m\u001b[1;33m,\u001b[0m \u001b[0mcalc_elementary_ac\u001b[0m\u001b[1;33m\u001b[0m\u001b[1;33m\u001b[0m\u001b[0m\n\u001b[0;32m      4\u001b[0m \u001b[1;32mfrom\u001b[0m \u001b[0mmatplotlib\u001b[0m  \u001b[1;32mimport\u001b[0m \u001b[0mpyplot\u001b[0m \u001b[1;32mas\u001b[0m \u001b[0mplt\u001b[0m\u001b[1;33m\u001b[0m\u001b[1;33m\u001b[0m\u001b[0m\n\u001b[0;32m      5\u001b[0m \u001b[1;32mimport\u001b[0m \u001b[0mnumpy\u001b[0m  \u001b[1;32mas\u001b[0m \u001b[0mnp\u001b[0m\u001b[1;33m\u001b[0m\u001b[1;33m\u001b[0m\u001b[0m\n",
      "\u001b[1;31mImportError\u001b[0m: attempted relative import with no known parent package"
     ]
    }
   ],
   "source": [
    "from rectangular.rectangular import RectangleSeparator\n",
    "from graph       import save_graph, customize_graph\n",
    "from tube        import Tube, calc_elementary_ac\n",
    "from matplotlib  import pyplot as plt\n",
    "import numpy  as np\n",
    "import pandas as pd\n",
    "import os"
   ]
  },
  {
   "cell_type": "markdown",
   "id": "2938d7b0",
   "metadata": {},
   "source": [
    "## Проверка элементарного УК"
   ]
  },
  {
   "cell_type": "code",
   "execution_count": null,
   "id": "cd309eb3",
   "metadata": {},
   "outputs": [],
   "source": [
    "def angles(num = 5):\n",
    "    c_i = np.array([1/2, 0, 1/2])\n",
    "    c_j = np.array([1/2, 1, 1/2])\n",
    "    n_i = np.array([0,1,0])\n",
    "    angle_ar = np.linspace(0,1,num)*np.pi\n",
    "    \n",
    "    x, y = np.sin(angle_ar), np.cos(angle_ar)\n",
    "    Y    = []\n",
    "    for i in range(num):\n",
    "        n_j = [x[i], y[i], 0]\n",
    "        X   = angle_ar/np.pi\n",
    "        Y.append(calc_elementary_ac(c_i,c_j,n_i,n_j,0.05))\n",
    "    \n",
    "    customize_graph(\"Зависимость  элем-го УК от угла\", \"Угол, rad/pi\")\n",
    "    plt.plot(X,Y)\n",
    "    save_graph(\"angle.png\", \"tests/Media\")\n",
    "    return\n",
    "\n",
    "def distance(num = 5):\n",
    "    c_i  = np.array([1/2, 0, 1/2])\n",
    "    #n_i и n_j \"смотрят\" друг на друга\n",
    "    n_i  = np.array([0,-1,0])\n",
    "    n_j  = np.array([np.sin(np.pi/4), np.cos(np.pi/4),0])\n",
    "    dist = np.linspace(0.5,10,num)\n",
    "    Y    = []\n",
    "    for d in dist:\n",
    "        c_j = np.array([1/2, d, 1/2])\n",
    "        Y.append(calc_elementary_ac(c_i,c_j,n_i,n_j,0.05))\n",
    "        \n",
    "    customize_graph(\"Зависимость  элем-го УК от расстояния\", \"Расстояние\")\n",
    "    plt.plot(dist,Y)\n",
    "    save_graph(\"distance.png\", \"tests/Media\")\n",
    "    return"
   ]
  },
  {
   "cell_type": "code",
   "execution_count": null,
   "id": "e76d8794",
   "metadata": {},
   "outputs": [],
   "source": [
    "angles(1002)"
   ]
  },
  {
   "cell_type": "code",
   "execution_count": null,
   "id": "e67ff0a8",
   "metadata": {},
   "outputs": [],
   "source": [
    "distance(1000)"
   ]
  },
  {
   "cell_type": "markdown",
   "id": "05c5c7c7",
   "metadata": {},
   "source": [
    "## Проверка УК"
   ]
  },
  {
   "cell_type": "code",
   "execution_count": null,
   "id": "7e0f19bc",
   "metadata": {},
   "outputs": [],
   "source": [
    "def print_tables(t, phi):\n",
    "    #заполнение по столбцам\n",
    "    #столбец - номер эмиттера\n",
    "    #строчка - номер коллектор (внутри соответствующей грани)\n",
    "    for side_1 in range(6):\n",
    "        for side_2 in range(6):\n",
    "            my_table = pd.DataFrame()\n",
    "            for emitter_i in range(t.separator.find_num_cells(side_1)):\n",
    "                my_table[str(emitter_i)] = phi[side_1][emitter_i][side_2]\n",
    "            print(f\"From {side_1}-th to {side_2}-th\")\n",
    "            display(my_table)\n",
    "    return\n",
    "\n",
    "def create_tube(a,b,L, cell):\n",
    "    return Tube(RectangleSeparator(a,b,L,cell))"
   ]
  },
  {
   "cell_type": "code",
   "execution_count": null,
   "id": "fbf48d63",
   "metadata": {},
   "outputs": [],
   "source": [
    "tube_1, tube_2 = create_tube(1,1,1,0.01), create_tube(1,5,1,0.01)"
   ]
  },
  {
   "cell_type": "code",
   "execution_count": null,
   "id": "cade3bce",
   "metadata": {
    "scrolled": true
   },
   "outputs": [],
   "source": [
    "#phi_1 = tube_1.calc_angular_coeffs()"
   ]
  },
  {
   "cell_type": "code",
   "execution_count": null,
   "id": "363c404a",
   "metadata": {},
   "outputs": [],
   "source": [
    "#phi_2 = tube_2.calc_angular_coeffs()"
   ]
  },
  {
   "cell_type": "markdown",
   "id": "e6085fcd",
   "metadata": {},
   "source": [
    "### Проверка замкнутости"
   ]
  },
  {
   "cell_type": "code",
   "execution_count": null,
   "id": "f79d4a56",
   "metadata": {},
   "outputs": [],
   "source": [
    "def check_isolation(find_num, phi):\n",
    "    sums = np.array([])\n",
    "    for side in range(6):\n",
    "        for emitter_i in range(find_num(side)):\n",
    "            sums = np.append(sums, np.sum(phi[side][emitter_i]))\n",
    "    return max(sums), np.mean(sums)\n",
    "\n",
    "def create_isolation_graph(X : list):\n",
    "    MAX_1, MAX_2 = [0]*len(X), [0]*len(X)\n",
    "    MEAN_1,MEAN_2 = [0]*len(X), [0]*len(X)\n",
    "    for i in range(len(X)):\n",
    "        t_1, t_2 = create_tube(1,1,1,X[i]), create_tube(1,5,1,X[i])\n",
    "        coeffs_1, coeffs_2 = t_1.calc_angular_coeffs(), t_2.calc_angular_coeffs()\n",
    "        MAX_1[i], MEAN_1[i] = check_isolation(t_1.separator.find_num_cells, coeffs_1)\n",
    "        MAX_2[i], MEAN_2[i] = check_isolation(t_2.separator.find_num_cells, coeffs_2)\n",
    "        \n",
    "    plt.plot(X,MAX_1)\n",
    "    customize_graph(\"Зависимость свойства замкнутости\", \"Размер ячейки\", \"Макс значение\")\n",
    "    save_graph(\"max_isolation1.png\", \"tests/Media\")\n",
    "    plt.show()\n",
    "    \n",
    "    plt.plot(X,MAX_2)\n",
    "    customize_graph(\"Зависимость свойства замкнутости\", \"Размер ячейки\", \"Макс значение\")\n",
    "    save_graph(\"max_isolation2.png\", \"tests/Media\")\n",
    "    plt.show()\n",
    "    \n",
    "    plt.plot(X,MEAN_1)\n",
    "    customize_graph(\"Зависимость свойства замкнутости\", \"Размер ячейки\", \"Среднее значение\")\n",
    "    save_graph(\"mean_isolation1.png\", \"tests/Media\")\n",
    "    plt.show()\n",
    "    \n",
    "    plt.plot(X,MEAN_2)\n",
    "    customize_graph(\"Зависимость свойства замкнутости\", \"Размер ячейки\", \"Среднее значение\")\n",
    "    save_graph(\"mean_isolation2.png\", \"tests/Media\")\n",
    "    plt.show()\n",
    "    return"
   ]
  },
  {
   "cell_type": "code",
   "execution_count": null,
   "id": "9e971687",
   "metadata": {},
   "outputs": [],
   "source": [
    "create_isolation_graph([0.25, 0.04, 0.01, 0.00078125, 0.0044444444, 0.0025])"
   ]
  },
  {
   "cell_type": "markdown",
   "id": "43db3326",
   "metadata": {},
   "source": [
    "### Проверка взаимности"
   ]
  },
  {
   "cell_type": "code",
   "execution_count": null,
   "id": "72b3e512",
   "metadata": {},
   "outputs": [],
   "source": [
    "def check_mutuality(t, phi):\n",
    "    for i in range(1, len(phi)):\n",
    "        for j in range(1, len(phi[i])):\n",
    "            if round(phi[i][j],5) != round(phi[j][i],5):\n",
    "                print(\"Свойство взаимности не выполнено для i =\", i, \"и j =\", j)\n",
    "                break \n",
    "    print(\"Проверка взаимности a =\", t.a, \"b =\", t.b, \"площади ячейки =\", t.cell, \"закончена\")\n",
    "    print(\"\\n\")   \n",
    "    return"
   ]
  },
  {
   "cell_type": "code",
   "execution_count": null,
   "id": "da46a450",
   "metadata": {},
   "outputs": [],
   "source": [
    "check_mutuality(tube_1, phi_1)\n",
    "check_mutuality(tube_2, phi_2)"
   ]
  },
  {
   "cell_type": "markdown",
   "id": "8e9ef6be",
   "metadata": {},
   "source": [
    "### Проверка аддитивности"
   ]
  },
  {
   "cell_type": "code",
   "execution_count": null,
   "id": "f3352a3d",
   "metadata": {},
   "outputs": [],
   "source": [
    "def check_additivity(t, phi):\n",
    "    for i in range(1,len(phi)):\n",
    "        for j in range(1,len(phi[i])):\n",
    "            if i == j:\n",
    "                break\n",
    "            new_phi = t.check_add(i,j)\n",
    "            if round(new_phi,5) != round(phi[i][j],5):\n",
    "                print(\"Свойство аддитивности не выполнено для i=\", i, \"и для j=\", j)\n",
    "    print(\"Проверка аддитивности для a =\", t.a, \"b =\", t.b, \"площади ячейки =\", t.cell, \"закончена\")\n",
    "    print(\"\\n\")\n",
    "    return "
   ]
  },
  {
   "cell_type": "code",
   "execution_count": null,
   "id": "a5ea8a57",
   "metadata": {
    "scrolled": false
   },
   "outputs": [],
   "source": [
    "check_additivity(tube_1, phi_1)\n",
    "check_additivity(tube_2, phi_2)"
   ]
  },
  {
   "cell_type": "markdown",
   "id": "e4a03902",
   "metadata": {},
   "source": [
    "## Проверка коэффициента Клаузинга"
   ]
  },
  {
   "cell_type": "code",
   "execution_count": null,
   "id": "aa00b1ad",
   "metadata": {},
   "outputs": [],
   "source": [
    "def test_1(phi):\n",
    "    #меньше ли 1.\n",
    "    print(\"Коэффициент Клаузинга меньше единицы\", rect.clausing(phi) <= 1)\n",
    "    print(\"\\n\")\n",
    "    return\n",
    "\n",
    "def test_0(phi):\n",
    "    #больше ли 0.\n",
    "    print(\"Коэффициент Клаузинга больше нуля\", rect.clausing(phi) >= 0)\n",
    "    print(\"\\n\")\n",
    "    return"
   ]
  },
  {
   "cell_type": "code",
   "execution_count": null,
   "id": "7a70961f",
   "metadata": {},
   "outputs": [],
   "source": [
    "test_1(phi_1)\n",
    "test_1(phi_2)"
   ]
  },
  {
   "cell_type": "code",
   "execution_count": null,
   "id": "e0250c21",
   "metadata": {},
   "outputs": [],
   "source": [
    "test_0(phi_1)\n",
    "test_0(phi_2)"
   ]
  },
  {
   "cell_type": "markdown",
   "id": "c9eefcea",
   "metadata": {},
   "source": [
    "## Вывод"
   ]
  },
  {
   "cell_type": "markdown",
   "id": "080f0c1e",
   "metadata": {},
   "source": [
    "### Потоки"
   ]
  },
  {
   "cell_type": "code",
   "execution_count": null,
   "id": "2d32b4d8",
   "metadata": {},
   "outputs": [],
   "source": [
    "def print_flows(t, phi):\n",
    "    print(\"Для a =\", t.a, \"b =\", t.b, \"L =\", t.L, \"step =\", np.sqrt(t.cell))\n",
    "    q = rect.flows(phi)\n",
    "    if rect.check_solution(phi,q):\n",
    "        print(\"Cистема решена верно \\n\")\n",
    "    else:\n",
    "        print(\"Ситема решена неверно\")\n",
    "        return\n",
    "    print(\"\")\n",
    "    print(\"Поток, покидающий 1-ю  грань равен\", round(q[0],5), \"cells =\", t.num_of_cells(1))\n",
    "    print(\"Поток, покидающий 2-ю  грань равен\", 0            , \"cells =\", t.num_of_cells(2))\n",
    "    print(\"Поток, покидающий 3-ю  грань равен\", round(q[1],5), \"cells =\", t.num_of_cells(3))\n",
    "    print(\"Поток, покидающий 4-ю  грань равен\", round(q[2],5), \"cells =\", t.num_of_cells(4))\n",
    "    print(\"Поток, покидающий 5-ю  грань равен\", round(q[1],5), \"cells =\", t.num_of_cells(5))\n",
    "    print(\"Поток, покидающий 6-ю  грань равен\", round(q[2],5), \"cells =\", t.num_of_cells(6))\n",
    "    return"
   ]
  },
  {
   "cell_type": "code",
   "execution_count": null,
   "id": "441043e4",
   "metadata": {},
   "outputs": [],
   "source": [
    "print_flows(tube_1, phi_1)"
   ]
  },
  {
   "cell_type": "code",
   "execution_count": null,
   "id": "9332243e",
   "metadata": {},
   "outputs": [],
   "source": [
    "print_flows(tube_2, phi_2)"
   ]
  }
 ],
 "metadata": {
  "kernelspec": {
   "display_name": "Python 3 (ipykernel)",
   "language": "python",
   "name": "python3"
  },
  "language_info": {
   "codemirror_mode": {
    "name": "ipython",
    "version": 3
   },
   "file_extension": ".py",
   "mimetype": "text/x-python",
   "name": "python",
   "nbconvert_exporter": "python",
   "pygments_lexer": "ipython3",
   "version": "3.9.7"
  }
 },
 "nbformat": 4,
 "nbformat_minor": 5
}
