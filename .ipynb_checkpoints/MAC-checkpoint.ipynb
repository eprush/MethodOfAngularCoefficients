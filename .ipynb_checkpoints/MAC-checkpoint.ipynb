{
 "cells": [
  {
   "cell_type": "markdown",
   "id": "288fb8d7",
   "metadata": {},
   "source": [
    "# Расчет проводимости трубопроводов с помощью МУК"
   ]
  },
  {
   "cell_type": "code",
   "execution_count": 1,
   "id": "9363b7bd",
   "metadata": {},
   "outputs": [],
   "source": [
    "import math\n",
    "import numpy as np\n",
    "import pandas as pd\n",
    "from matplotlib import pyplot as plt"
   ]
  },
  {
   "cell_type": "markdown",
   "id": "a58bb4bd",
   "metadata": {},
   "source": [
    "## Круглое сечение"
   ]
  },
  {
   "cell_type": "markdown",
   "id": "d993ba97",
   "metadata": {},
   "source": [
    "### Без разбиения"
   ]
  },
  {
   "cell_type": "code",
   "execution_count": 2,
   "id": "3867ed24",
   "metadata": {},
   "outputs": [],
   "source": [
    "class Round_section:\n",
    "    def __init__(self, L, R = 1):\n",
    "        self.R = R\n",
    "        self.L = L\n",
    "        \n",
    "    def coaxial_discs(self, s) -> float:\n",
    "        x = s**2 + self.R**2 + self.R**2\n",
    "        return 1/(2*self.R**2) * ( x - math.sqrt(x**2 - 4*self.R**2 * self.R**2) )\n",
    "    \n",
    "    def no_splitting(self) -> float:\n",
    "        phi_12 = self.coaxial_discs(self.L)\n",
    "        phi_21 = phi_12\n",
    "        phi_11, phi_22 = 0, 0\n",
    "        phi_13 = 1 - phi_11 - phi_12\n",
    "        phi_23 = 1 - phi_21 - phi_22\n",
    "        \n",
    "        S_1 = math.pi * self.R**2\n",
    "        S_3 = 2*math.pi*self.R * self.L\n",
    "        phi_31 = phi_13 * S_1 / S_3\n",
    "        phi_32 = phi_31\n",
    "        phi_33 = 1 - phi_31 - phi_32\n",
    "        \n",
    "        k = phi_12 + phi_13 * phi_32 / ( 1 - phi_33 )\n",
    "        return k"
   ]
  },
  {
   "cell_type": "code",
   "execution_count": 3,
   "id": "82015af1",
   "metadata": {},
   "outputs": [
    {
     "data": {
      "text/plain": [
       "0.5857864376269049"
      ]
     },
     "execution_count": 3,
     "metadata": {},
     "output_type": "execute_result"
    }
   ],
   "source": [
    "section_1 = Round_section(2)\n",
    "section_1.no_splitting()"
   ]
  },
  {
   "cell_type": "markdown",
   "id": "dbdef2a5",
   "metadata": {},
   "source": [
    "### С разбиением"
   ]
  },
  {
   "cell_type": "code",
   "execution_count": 4,
   "id": "09a9a16a",
   "metadata": {},
   "outputs": [],
   "source": [
    "def splitting(self) -> float:\n",
    "        phi_11, phi_55 = 0, 0\n",
    "        phi_15 = self.coaxial_discs(self.L/2)\n",
    "        phi_51 = phi_15\n",
    "        phi_13 = 1 - phi_11 - phi_15\n",
    "\n",
    "        S_1 = math.pi*self.R**2\n",
    "        S_3 = 2*math.pi*self.R*self.L/2\n",
    "        phi_31 = phi_13 * S_1 / S_3\n",
    "        phi_35 = phi_31\n",
    "        phi_33 = 1 - phi_31 - phi_35\n",
    "        phi_53 = 1 - phi_55 - phi_51\n",
    "        \n",
    "        phi_22 = 0\n",
    "        phi_52, phi_25 = phi_15, phi_15\n",
    "        phi_54 = phi_13\n",
    "\n",
    "        phi_45, phi_42 = phi_31, phi_31\n",
    "        phi_44 = phi_33\n",
    "        phi_24 = phi_53\n",
    "        \n",
    "        x = phi_54*phi_42/(1 - phi_44) + phi_52\n",
    "        y = phi_13*phi_35/(1 - phi_33) + phi_15\n",
    "        z = 1 - phi_53*phi_35/(1 - phi_33) * phi_54*phi_45/(1 - phi_44)\n",
    "        k = x*y/z\n",
    "        return k"
   ]
  },
  {
   "cell_type": "code",
   "execution_count": 5,
   "id": "baaea12d",
   "metadata": {},
   "outputs": [
    {
     "data": {
      "text/plain": [
       "0.5278640450004206"
      ]
     },
     "execution_count": 5,
     "metadata": {},
     "output_type": "execute_result"
    }
   ],
   "source": [
    "Round_section.splitting = splitting\n",
    "section_1.splitting()"
   ]
  },
  {
   "cell_type": "markdown",
   "id": "3e091bcd",
   "metadata": {},
   "source": [
    "### Графики"
   ]
  },
  {
   "cell_type": "code",
   "execution_count": 6,
   "id": "1e287f1a",
   "metadata": {},
   "outputs": [],
   "source": [
    "class Theory:\n",
    "    def __init__(self):\n",
    "        x = list(np.array(range(0,20,1))/10)\n",
    "        x+= list(np.array(range(4,10,1))/2)\n",
    "        x+= range(5,11,1)\n",
    "        x = np.array(x)\n",
    "        \n",
    "        k = [1, 0.9092, 0.8341, 0.7711, 0.7177, 0.6720, 0.6320, 0.5970, 0.5659, 0.5384, 0.5136, 0.4914, 0.4711]\n",
    "        k+= [0.4527, 0.4359, 0.4205, 0.4062, 0.3931, 0.3809, 0.3695, 0.3589, 0.3146, 0.2807, 0.2537, 0.2316]\n",
    "        k+= [0.2131, 0.1973, 0.1719, 0.1523, 0.1367, 0.1240, 0.1135]\n",
    "        k = np.array(k)\n",
    "        \n",
    "        self.ans = dict(zip(x, k))\n",
    "        return"
   ]
  },
  {
   "cell_type": "code",
   "execution_count": 7,
   "id": "2499e8eb",
   "metadata": {},
   "outputs": [],
   "source": [
    "def name(title):\n",
    "    if title:\n",
    "        plt.title(title, color= \"red\")\n",
    "    return\n",
    "\n",
    "def save(filename):\n",
    "    if filename:\n",
    "        plt.savefig(filename)\n",
    "    return\n",
    "\n",
    "def graph(left, right, num, title = \"\", filename = \"\"):\n",
    "    x = np.linspace(left,right,num)\n",
    "    k = [Round_section(element).no_splitting() for element in x]\n",
    "    \n",
    "    fig = plt.figure(figsize=(12,9))\n",
    "    ax = fig.add_subplot(111)\n",
    "    ax.tick_params(axis=\"x\", colors=\"red\")\n",
    "    ax.tick_params(axis=\"y\", colors=\"red\")\n",
    "    plt.scatter(x, k, label= 'Без разбиения', marker=\"o\")\n",
    "    plt.plot(x, k)\n",
    "    \n",
    "    k = [Round_section(element).splitting() for element in x]\n",
    "    plt.scatter(x, k, label= 'С разбиением', marker= \"o\")\n",
    "    plt.plot(x, k)\n",
    "    \n",
    "    theory_graph = Theory().ans\n",
    "    k = [theory_graph[element] for element in x]\n",
    "    plt.scatter(x, k, label= 'Теоретический', marker= \"o\")\n",
    "    plt.plot(x, k)\n",
    "    \n",
    "    plt.grid()\n",
    "    plt.xlabel('L/R', color=\"red\")\n",
    "    plt.ylabel('k'  , color=\"red\")\n",
    "    plt.legend()\n",
    "    name(title)\n",
    "    save(filename)\n",
    "    plt.show()"
   ]
  },
  {
   "cell_type": "code",
   "execution_count": 8,
   "id": "02be6c91",
   "metadata": {},
   "outputs": [
    {
     "name": "stderr",
     "output_type": "stream",
     "text": [
      "C:\\Users\\ASUS\\AppData\\Local\\Temp/ipykernel_8644/1359622613.py:19: RuntimeWarning: invalid value encountered in double_scalars\n",
      "  phi_31 = phi_13 * S_1 / S_3\n",
      "C:\\Users\\ASUS\\AppData\\Local\\Temp/ipykernel_8644/1776683433.py:9: RuntimeWarning: invalid value encountered in double_scalars\n",
      "  phi_31 = phi_13 * S_1 / S_3\n"
     ]
    },
    {
     "ename": "KeyError",
     "evalue": "0.30000000000000004",
     "output_type": "error",
     "traceback": [
      "\u001b[1;31m---------------------------------------------------------------------------\u001b[0m",
      "\u001b[1;31mKeyError\u001b[0m                                  Traceback (most recent call last)",
      "\u001b[1;32m~\\AppData\\Local\\Temp/ipykernel_8644/3328003100.py\u001b[0m in \u001b[0;36m<module>\u001b[1;34m\u001b[0m\n\u001b[1;32m----> 1\u001b[1;33m \u001b[0mgraph\u001b[0m\u001b[1;33m(\u001b[0m\u001b[1;36m0\u001b[0m\u001b[1;33m,\u001b[0m\u001b[1;36m2\u001b[0m\u001b[1;33m,\u001b[0m\u001b[1;36m21\u001b[0m\u001b[1;33m,\u001b[0m \u001b[1;34m\"Проводимость в круглом сечении при L/R < 2\"\u001b[0m\u001b[1;33m,\u001b[0m \u001b[1;34m\"L less then 2.png\"\u001b[0m\u001b[1;33m)\u001b[0m\u001b[1;33m\u001b[0m\u001b[1;33m\u001b[0m\u001b[0m\n\u001b[0m",
      "\u001b[1;32m~\\AppData\\Local\\Temp/ipykernel_8644/2661771805.py\u001b[0m in \u001b[0;36mgraph\u001b[1;34m(left, right, num, title, filename)\u001b[0m\n\u001b[0;32m     25\u001b[0m \u001b[1;33m\u001b[0m\u001b[0m\n\u001b[0;32m     26\u001b[0m     \u001b[0mtheory_graph\u001b[0m \u001b[1;33m=\u001b[0m \u001b[0mTheory\u001b[0m\u001b[1;33m(\u001b[0m\u001b[1;33m)\u001b[0m\u001b[1;33m.\u001b[0m\u001b[0mans\u001b[0m\u001b[1;33m\u001b[0m\u001b[1;33m\u001b[0m\u001b[0m\n\u001b[1;32m---> 27\u001b[1;33m     \u001b[0mk\u001b[0m \u001b[1;33m=\u001b[0m \u001b[1;33m[\u001b[0m\u001b[0mtheory_graph\u001b[0m\u001b[1;33m[\u001b[0m\u001b[0melement\u001b[0m\u001b[1;33m]\u001b[0m \u001b[1;32mfor\u001b[0m \u001b[0melement\u001b[0m \u001b[1;32min\u001b[0m \u001b[0mx\u001b[0m\u001b[1;33m]\u001b[0m\u001b[1;33m\u001b[0m\u001b[1;33m\u001b[0m\u001b[0m\n\u001b[0m\u001b[0;32m     28\u001b[0m     \u001b[0mplt\u001b[0m\u001b[1;33m.\u001b[0m\u001b[0mscatter\u001b[0m\u001b[1;33m(\u001b[0m\u001b[0mx\u001b[0m\u001b[1;33m,\u001b[0m \u001b[0mk\u001b[0m\u001b[1;33m,\u001b[0m \u001b[0mlabel\u001b[0m\u001b[1;33m=\u001b[0m \u001b[1;34m'Теоретический'\u001b[0m\u001b[1;33m,\u001b[0m \u001b[0mmarker\u001b[0m\u001b[1;33m=\u001b[0m \u001b[1;34m\"o\"\u001b[0m\u001b[1;33m)\u001b[0m\u001b[1;33m\u001b[0m\u001b[1;33m\u001b[0m\u001b[0m\n\u001b[0;32m     29\u001b[0m     \u001b[0mplt\u001b[0m\u001b[1;33m.\u001b[0m\u001b[0mplot\u001b[0m\u001b[1;33m(\u001b[0m\u001b[0mx\u001b[0m\u001b[1;33m,\u001b[0m \u001b[0mk\u001b[0m\u001b[1;33m)\u001b[0m\u001b[1;33m\u001b[0m\u001b[1;33m\u001b[0m\u001b[0m\n",
      "\u001b[1;32m~\\AppData\\Local\\Temp/ipykernel_8644/2661771805.py\u001b[0m in \u001b[0;36m<listcomp>\u001b[1;34m(.0)\u001b[0m\n\u001b[0;32m     25\u001b[0m \u001b[1;33m\u001b[0m\u001b[0m\n\u001b[0;32m     26\u001b[0m     \u001b[0mtheory_graph\u001b[0m \u001b[1;33m=\u001b[0m \u001b[0mTheory\u001b[0m\u001b[1;33m(\u001b[0m\u001b[1;33m)\u001b[0m\u001b[1;33m.\u001b[0m\u001b[0mans\u001b[0m\u001b[1;33m\u001b[0m\u001b[1;33m\u001b[0m\u001b[0m\n\u001b[1;32m---> 27\u001b[1;33m     \u001b[0mk\u001b[0m \u001b[1;33m=\u001b[0m \u001b[1;33m[\u001b[0m\u001b[0mtheory_graph\u001b[0m\u001b[1;33m[\u001b[0m\u001b[0melement\u001b[0m\u001b[1;33m]\u001b[0m \u001b[1;32mfor\u001b[0m \u001b[0melement\u001b[0m \u001b[1;32min\u001b[0m \u001b[0mx\u001b[0m\u001b[1;33m]\u001b[0m\u001b[1;33m\u001b[0m\u001b[1;33m\u001b[0m\u001b[0m\n\u001b[0m\u001b[0;32m     28\u001b[0m     \u001b[0mplt\u001b[0m\u001b[1;33m.\u001b[0m\u001b[0mscatter\u001b[0m\u001b[1;33m(\u001b[0m\u001b[0mx\u001b[0m\u001b[1;33m,\u001b[0m \u001b[0mk\u001b[0m\u001b[1;33m,\u001b[0m \u001b[0mlabel\u001b[0m\u001b[1;33m=\u001b[0m \u001b[1;34m'Теоретический'\u001b[0m\u001b[1;33m,\u001b[0m \u001b[0mmarker\u001b[0m\u001b[1;33m=\u001b[0m \u001b[1;34m\"o\"\u001b[0m\u001b[1;33m)\u001b[0m\u001b[1;33m\u001b[0m\u001b[1;33m\u001b[0m\u001b[0m\n\u001b[0;32m     29\u001b[0m     \u001b[0mplt\u001b[0m\u001b[1;33m.\u001b[0m\u001b[0mplot\u001b[0m\u001b[1;33m(\u001b[0m\u001b[0mx\u001b[0m\u001b[1;33m,\u001b[0m \u001b[0mk\u001b[0m\u001b[1;33m)\u001b[0m\u001b[1;33m\u001b[0m\u001b[1;33m\u001b[0m\u001b[0m\n",
      "\u001b[1;31mKeyError\u001b[0m: 0.30000000000000004"
     ]
    },
    {
     "data": {
      "image/png": "[encoded data removed]",
      "text/plain": [
       "<Figure size 864x648 with 1 Axes>"
      ]
     },
     "metadata": {
      "needs_background": "light"
     },
     "output_type": "display_data"
    }
   ],
   "source": [
    "graph(0,2,21, \"Проводимость в круглом сечении при L/R < 2\", \"L less then 2.png\")"
   ]
  },
  {
   "cell_type": "code",
   "execution_count": null,
   "id": "0f47d861",
   "metadata": {},
   "outputs": [],
   "source": [
    "graph(1,10,19, \"Проводимость в круглом сечении при L/R < 10\", \"L less then 10.png\")"
   ]
  },
  {
   "cell_type": "markdown",
   "id": "99080b77",
   "metadata": {},
   "source": [
    "## Прямоугольное сечение"
   ]
  }
 ],
 "metadata": {
  "kernelspec": {
   "display_name": "Python 3 (ipykernel)",
   "language": "python",
   "name": "python3"
  },
  "language_info": {
   "codemirror_mode": {
    "name": "ipython",
    "version": 3
   },
   "file_extension": ".py",
   "mimetype": "text/x-python",
   "name": "python",
   "nbconvert_exporter": "python",
   "pygments_lexer": "ipython3",
   "version": "3.9.7"
  }
 },
 "nbformat": 4,
 "nbformat_minor": 5
}
