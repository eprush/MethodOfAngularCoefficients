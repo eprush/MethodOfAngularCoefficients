{
 "cells": [
  {
   "cell_type": "markdown",
   "id": "288fb8d7",
   "metadata": {},
   "source": [
    "# Расчет проводимости трубопроводов с помощью МУК"
   ]
  },
  {
   "cell_type": "code",
   "execution_count": 1,
   "id": "9363b7bd",
   "metadata": {},
   "outputs": [],
   "source": [
    "import math"
   ]
  },
  {
   "cell_type": "markdown",
   "id": "a58bb4bd",
   "metadata": {},
   "source": [
    "## Круглое сечение"
   ]
  },
  {
   "cell_type": "code",
   "execution_count": 2,
   "id": "ecc38488",
   "metadata": {},
   "outputs": [],
   "source": [
    "### Без разбиения"
   ]
  },
  {
   "cell_type": "code",
   "execution_count": 3,
   "id": "3867ed24",
   "metadata": {},
   "outputs": [],
   "source": [
    "class Round_section:\n",
    "    def __init__(self, R, L):\n",
    "        self.R = R\n",
    "        self.L = L\n",
    "        \n",
    "    def coaxial_discs(self) -> float:\n",
    "        x = self.L**2 + self.R**2 + self.R**2\n",
    "        return 1/(2*self.R**2) * ( x - math.sqrt(x**2 - 4*self.R**2 * self.R**2) )\n",
    "    \n",
    "    def no_splitting(self) -> float:\n",
    "        phi_12 = self.coaxial_discs()\n",
    "        phi_21 = phi_12\n",
    "        phi_11, phi_22 = 0, 0\n",
    "        phi_13 = 1 - phi_11 - phi_12\n",
    "        phi_23 = 1 - phi_21 - phi_22\n",
    "        \n",
    "        S_1 = math.pi * self.R**2\n",
    "        S_3 = 2*math.pi*self.R * self.L\n",
    "        phi_31 = phi_13 * S_1 / S_3\n",
    "        phi_32 = phi_31\n",
    "        phi_33 = 1 - phi_31 - phi_32\n",
    "        \n",
    "        k = phi_12 + phi_13 * phi_32 / ( 1 - phi_33 )\n",
    "        return k"
   ]
  },
  {
   "cell_type": "code",
   "execution_count": 4,
   "id": "82015af1",
   "metadata": {},
   "outputs": [
    {
     "data": {
      "text/plain": [
       "0.5857864376269049"
      ]
     },
     "execution_count": 4,
     "metadata": {},
     "output_type": "execute_result"
    }
   ],
   "source": [
    "Round_section(1,2).no_splitting()"
   ]
  },
  {
   "cell_type": "code",
   "execution_count": 5,
   "id": "557dc32a",
   "metadata": {},
   "outputs": [],
   "source": [
    "### С разбиением"
   ]
  },
  {
   "cell_type": "code",
   "execution_count": 6,
   "id": "2f9faaff",
   "metadata": {},
   "outputs": [
    {
     "name": "stdout",
     "output_type": "stream",
     "text": [
      "2\n"
     ]
    }
   ],
   "source": [
    "L = float(input())\n",
    "R = 1"
   ]
  },
  {
   "cell_type": "code",
   "execution_count": 7,
   "id": "e4809071",
   "metadata": {},
   "outputs": [],
   "source": [
    "def coaxial_discs(s, R_1, R_2) -> float:\n",
    "    x = s**2 + R_1**2 + R_2**2\n",
    "    return 1/(2*R_1**2) * ( x - math.sqrt(x**2 - 4*R_1**2 * R_2**2) )"
   ]
  },
  {
   "cell_type": "code",
   "execution_count": 8,
   "id": "7be16c04",
   "metadata": {},
   "outputs": [],
   "source": [
    "phi_11, phi_55 = 0, 0\n",
    "phi_15 = coaxial_discs(L/2, R, R)\n",
    "phi_51 = phi_15\n",
    "phi_13 = 1 - phi_11 - phi_15\n",
    "\n",
    "S_1 = math.pi*R**2\n",
    "S_3 = 2*math.pi*R*L/2\n",
    "phi_31 = phi_13 * S_1 / S_3\n",
    "phi_35 = phi_31\n",
    "phi_33 = 1 - phi_31 - phi_35\n",
    "phi_53 = 1 - phi_55 - phi_51"
   ]
  },
  {
   "cell_type": "code",
   "execution_count": 9,
   "id": "8627b6aa",
   "metadata": {},
   "outputs": [],
   "source": [
    "phi_22 = 0\n",
    "phi_25 = phi_15\n",
    "phi_24 = phi_53\n",
    "phi_52 = phi_25\n",
    "phi_54 = phi_13\n",
    "phi_45 = phi_31\n",
    "phi_42 = phi_31\n",
    "phi_44 = phi_33"
   ]
  },
  {
   "cell_type": "code",
   "execution_count": 10,
   "id": "715afa65",
   "metadata": {},
   "outputs": [
    {
     "data": {
      "text/plain": [
       "1.3819660112501053"
      ]
     },
     "execution_count": 10,
     "metadata": {},
     "output_type": "execute_result"
    }
   ],
   "source": [
    "x = phi_54*phi_42/(1-phi_44) + phi_52\n",
    "y = phi_15*(1 - phi_33) + phi_13\n",
    "z = ( (1-phi_33)*(1-phi_44) - phi_53*phi_54*phi_45 ) / (1 - phi_44)\n",
    "k = x*y/z\n",
    "k"
   ]
  }
 ],
 "metadata": {
  "kernelspec": {
   "display_name": "Python 3 (ipykernel)",
   "language": "python",
   "name": "python3"
  },
  "language_info": {
   "codemirror_mode": {
    "name": "ipython",
    "version": 3
   },
   "file_extension": ".py",
   "mimetype": "text/x-python",
   "name": "python",
   "nbconvert_exporter": "python",
   "pygments_lexer": "ipython3",
   "version": "3.9.7"
  }
 },
 "nbformat": 4,
 "nbformat_minor": 5
}
