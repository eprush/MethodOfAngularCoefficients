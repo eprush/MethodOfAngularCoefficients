{
 "cells": [
  {
   "cell_type": "markdown",
   "id": "71b03971",
   "metadata": {},
   "source": [
    "# Расчет проводимости трубопроводов с помощью МУК"
   ]
  },
  {
   "cell_type": "code",
   "execution_count": 1,
   "id": "40d7cd37",
   "metadata": {},
   "outputs": [],
   "source": [
    "import math\n",
    "import numpy as np"
   ]
  },
  {
   "cell_type": "markdown",
   "id": "1897c306",
   "metadata": {},
   "source": [
    "## Прямоугольное сечение"
   ]
  },
  {
   "cell_type": "markdown",
   "id": "7ba96c66",
   "metadata": {},
   "source": [
    "### Угловые коэффициенты"
   ]
  },
  {
   "cell_type": "code",
   "execution_count": 2,
   "id": "bef8a63a",
   "metadata": {},
   "outputs": [],
   "source": [
    "def scalar_prod(v_1, v_2):\n",
    "    v_1 , v_2 = np.array(v_1), np.array(v_2)\n",
    "    return (v_1*v_2).sum()\n",
    "\n",
    "def module(v):\n",
    "    return math.sqrt( scalar_prod(v, v) )\n",
    "\n",
    "def elementary(center_i : list, center_j : list, normal_i : list, normal_j : list, F_j):\n",
    "    center_i, center_j = np.array(center_i), np.array(center_j)\n",
    "    r = module(center_i - center_j)\n",
    "    \n",
    "    cos_1 = abs( scalar_prod( normal_i, center_j - center_i ) ) / r\n",
    "    cos_2 = abs( scalar_prod( normal_j, center_i - center_j ) ) / r\n",
    "    return cos_1*cos_2/(math.pi*r**2)*F_j"
   ]
  },
  {
   "cell_type": "code",
   "execution_count": 3,
   "id": "72722846",
   "metadata": {},
   "outputs": [],
   "source": [
    "c_i = np.array([1,2,3])\n",
    "c_j = np.array([4,5,6])\n",
    "\n",
    "n_i = np.array([1,0,0])\n",
    "n_j = np.array([0,1/2**0.5, 1/2**0.5])"
   ]
  },
  {
   "cell_type": "code",
   "execution_count": 4,
   "id": "bdd4742e",
   "metadata": {},
   "outputs": [
    {
     "data": {
      "text/plain": [
       "0.005557508124426579"
      ]
     },
     "execution_count": 4,
     "metadata": {},
     "output_type": "execute_result"
    }
   ],
   "source": [
    "elementary(c_i, c_j, n_i, n_j, 1)"
   ]
  },
  {
   "cell_type": "code",
   "execution_count": 5,
   "id": "3fe19812",
   "metadata": {},
   "outputs": [],
   "source": [
    "def local(center_i, centers_2, normal_i, normal_j, F_j):\n",
    "    #F_j - площадь одной ячейки коллектора\n",
    "    return sum([ elementary(center_i, center, normal_i, normal_j, F_j) for center in centers_2])\n",
    "\n",
    "def total(centers_1, centers_2,normal_1, normal_2, F_i, F_j):\n",
    "    #F_i - площадь одной ячейки эмиттера\n",
    "    return np.array( [ local(center, centers_2, normal_1, normal_2, F_j) for center in centers_1 ] ).sum() * F_i"
   ]
  },
  {
   "cell_type": "markdown",
   "id": "183fce23",
   "metadata": {},
   "source": [
    "### Проводимость"
   ]
  },
  {
   "cell_type": "code",
   "execution_count": 6,
   "id": "3794842c",
   "metadata": {},
   "outputs": [],
   "source": [
    "#функции разбиения каждой отдельной поверхности на ячейки\n",
    "def breaking_1(a, b, l, s = 0):\n",
    "    res = []\n",
    "    for i in range(l):\n",
    "        x = a/(2*l) + a/l*i\n",
    "        for j in range(l):\n",
    "            z = b/(2*l) + b/l*j\n",
    "            center = [x,0,z]\n",
    "            res.append(center)\n",
    "    return res\n",
    "\n",
    "def breaking_2(a, b, l, s):\n",
    "    res = []\n",
    "    for i in range(l):\n",
    "        x = a/(2*l) + a/l*i\n",
    "        for j in range(l):\n",
    "            z = b/(2*l) + b/l*j\n",
    "            center = [x,s,z]\n",
    "            res.append(center)\n",
    "    return res\n",
    "\n",
    "def breaking_3(a, b, l, s):\n",
    "    res = []\n",
    "    for i in range(l):\n",
    "        x = a/(2*l) + a/l*i\n",
    "        for j in range(l):\n",
    "            y = s/(2*l) + s/l*j\n",
    "            center = [x,y,b]\n",
    "            res.append(center)\n",
    "    return res\n",
    "\n",
    "def breaking_4(a, b, l, s):\n",
    "    res = []\n",
    "    for i in range(l):\n",
    "        y = s/(2*l) + s/l*i\n",
    "        for j in range(l):\n",
    "            z = b/(2*l) + b/l*j\n",
    "            center = [0,y,z]\n",
    "            res.append(center)\n",
    "    return res\n",
    "\n",
    "def breaking_5(a, b, l, s):\n",
    "    res = []\n",
    "    for i in range(l):\n",
    "        x = a/(2*l) + a/l*i\n",
    "        for j in range(l):\n",
    "            y = s/(2*l) + s/l*j\n",
    "            center = [x,y,0]\n",
    "            res.append(center)\n",
    "    return res\n",
    "\n",
    "def breaking_6(a, b, l, s):\n",
    "    res = []\n",
    "    for i in range(l):\n",
    "        y = s/(2*l) + s/l*i\n",
    "        for j in range(l):\n",
    "            z = b/(2*l) + b/l*j\n",
    "            center = [a,y,z]\n",
    "            res.append(center)\n",
    "    return res"
   ]
  },
  {
   "cell_type": "code",
   "execution_count": 7,
   "id": "b45196e5",
   "metadata": {},
   "outputs": [],
   "source": [
    "#площади \"уникальных\" поверхностей - area_1 == area_2 etc\n",
    "def area_1(a,b,s):\n",
    "    return a*b\n",
    "\n",
    "def area_3(a,b,s):\n",
    "    return a*s\n",
    "\n",
    "def area_4(a,b,s):\n",
    "    return s*b"
   ]
  },
  {
   "cell_type": "code",
   "execution_count": 8,
   "id": "53fa87aa",
   "metadata": {},
   "outputs": [],
   "source": [
    "class Conduct:\n",
    "    def __init__(self, a, b, L):\n",
    "        self.a = a\n",
    "        self.b = b\n",
    "        self.L = L\n",
    "        \n",
    "        self.normals  = [ [0,1,0], [0,1,0], [0,0,1], [1,0,0], [0,0,1], [1,0,0]]\n",
    "        self.breaking = [ breaking_1, breaking_2, breaking_3, breaking_4, breaking_5, breaking_6 ]\n",
    "        self.areas    = [ area_1, area_1, area_3, area_4, area_3, area_4 ]\n",
    "        \n",
    "    def calc(self, j, l_1 = 10, l_2 = 10):\n",
    "        #j - номер коллектора от 1 до 6\n",
    "        #l_1, l_2 - на сколько частей разбить эмиттеры и коллектор\n",
    "        \n",
    "        #параметры коллектора\n",
    "        collector = self.breaking[j-1](self.a,self.b,l_2,self.L)\n",
    "        normal_j  = self.normals[j-1]\n",
    "        area_j    = self.areas[j-1](self.a,self.b,self.L)/l_2**2\n",
    "        \n",
    "        #параметры эмиттеров\n",
    "        normals_i = [self.normals[i]   for i in range(6) if i != j-1]\n",
    "        emitters  = [ self.breaking[i] for i in range(6) if i != j-1]\n",
    "        areas_i   = [ self.areas[i](self.a,self.b,self.L) for i in range(6) if i != j-1 ]\n",
    "        \n",
    "        res = 0\n",
    "        for i in range(5):\n",
    "            emitter = emitters[i](self.a,self.b,l_1,self.L)\n",
    "            normal  = normals_i[i]\n",
    "            area_i  = areas_i[i]/l_1**2\n",
    "            \n",
    "            res += total(emitter, collector, normal, normal_j, area_i, area_j)\n",
    "            res /= areas_i[i]\n",
    "        return res"
   ]
  },
  {
   "cell_type": "code",
   "execution_count": 12,
   "id": "4b2ca6da",
   "metadata": {},
   "outputs": [
    {
     "data": {
      "text/plain": [
       "1.0338594521870004"
      ]
     },
     "execution_count": 12,
     "metadata": {},
     "output_type": "execute_result"
    }
   ],
   "source": [
    "Conduct(1,1,1).calc(2, 16, 16)"
   ]
  }
 ],
 "metadata": {
  "kernelspec": {
   "display_name": "Python 3 (ipykernel)",
   "language": "python",
   "name": "python3"
  },
  "language_info": {
   "codemirror_mode": {
    "name": "ipython",
    "version": 3
   },
   "file_extension": ".py",
   "mimetype": "text/x-python",
   "name": "python",
   "nbconvert_exporter": "python",
   "pygments_lexer": "ipython3",
   "version": "3.9.7"
  }
 },
 "nbformat": 4,
 "nbformat_minor": 5
}
