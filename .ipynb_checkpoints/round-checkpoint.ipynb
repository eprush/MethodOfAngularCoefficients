{
 "cells": [
  {
   "cell_type": "markdown",
   "id": "288fb8d7",
   "metadata": {},
   "source": [
    "# Расчет проводимости трубопроводов с помощью МУК"
   ]
  },
  {
   "cell_type": "code",
   "execution_count": 1,
   "id": "9363b7bd",
   "metadata": {},
   "outputs": [],
   "source": [
    "import os\n",
    "import math\n",
    "import numpy as np\n",
    "from graph import Graph #собственный класс для графиков\n",
    "from matplotlib import pyplot as plt"
   ]
  },
  {
   "cell_type": "markdown",
   "id": "a58bb4bd",
   "metadata": {},
   "source": [
    "## Круглое сечение"
   ]
  },
  {
   "cell_type": "markdown",
   "id": "d993ba97",
   "metadata": {},
   "source": [
    "### Без разбиения"
   ]
  },
  {
   "cell_type": "code",
   "execution_count": 2,
   "id": "3867ed24",
   "metadata": {},
   "outputs": [],
   "source": [
    "class Round:\n",
    "    def __init__(self, L, R = 1):\n",
    "        self.R = R\n",
    "        self.L = L\n",
    "        \n",
    "    def coaxial_discs(self, s) -> float:\n",
    "        x = s**2 + self.R**2 + self.R**2\n",
    "        return 1/(2*self.R**2) * ( x - math.sqrt(x**2 - 4*self.R**2 * self.R**2) )\n",
    "    \n",
    "    def coaxial(self, s, l_1 = 2, l_2 = 2) -> float:\n",
    "        return self.coaxial_discs(s)\n",
    "    \n",
    "    def area_1(self):\n",
    "        return math.pi * self.R**2\n",
    "    \n",
    "    def area_3(self, s):\n",
    "        if s:\n",
    "            return 2*math.pi*self.R * s\n",
    "        return 1\n",
    "    \n",
    "    def no_splitting(self, l_1 : int = 2, l_2 : int = 2) -> float:\n",
    "        phi_12 = self.coaxial(self.L, l_1, l_2)\n",
    "        phi_21 = phi_12\n",
    "        phi_11, phi_22 = 0, 0\n",
    "        phi_13 = 1 - phi_11 - phi_12\n",
    "        \n",
    "        phi_31 = phi_13 * self.area_1() / self.area_3(self.L)\n",
    "        phi_32 = phi_31\n",
    "        phi_33 = 1 - phi_31 - phi_32\n",
    "        \n",
    "        k = phi_12 + phi_13 * phi_32 / ( 1 - phi_33 )\n",
    "        return k\n",
    "    \n",
    "    def splitting(self, l_1 : int = 2, l_2 : int = 2) -> float:\n",
    "        phi_11, phi_55 = 0, 0\n",
    "        phi_15 = self.coaxial(self.L/2, l_1, l_2)\n",
    "        phi_51 = phi_15\n",
    "        phi_13 = 1 - phi_11 - phi_15\n",
    "\n",
    "        phi_31 = phi_13 * self.area_1() / self.area_3(self.L/2)\n",
    "        phi_35 = phi_31\n",
    "        phi_33 = 1 - phi_31 - phi_35\n",
    "        phi_53 = 1 - phi_55 - phi_51\n",
    "        \n",
    "        phi_52, phi_25 = phi_15, phi_15\n",
    "        phi_54 = phi_13\n",
    "\n",
    "        phi_45, phi_42 = phi_31, phi_31\n",
    "        phi_44 = phi_33\n",
    "        phi_24 = phi_53\n",
    "        \n",
    "        x = phi_54*phi_42/(1 - phi_44) + phi_52\n",
    "        y = phi_13*phi_35/(1 - phi_33) + phi_15\n",
    "        z = 1 - phi_53*phi_35/(1 - phi_33) * phi_54*phi_45/(1 - phi_44)\n",
    "        k = x*y/z\n",
    "        return k"
   ]
  },
  {
   "cell_type": "code",
   "execution_count": 3,
   "id": "82015af1",
   "metadata": {},
   "outputs": [
    {
     "data": {
      "text/plain": [
       "0.586"
      ]
     },
     "execution_count": 3,
     "metadata": {},
     "output_type": "execute_result"
    }
   ],
   "source": [
    "tube_1 = Round(2)\n",
    "round(tube_1.no_splitting(),3)"
   ]
  },
  {
   "cell_type": "markdown",
   "id": "dbdef2a5",
   "metadata": {},
   "source": [
    "### С разбиением"
   ]
  },
  {
   "cell_type": "code",
   "execution_count": 4,
   "id": "baaea12d",
   "metadata": {},
   "outputs": [
    {
     "data": {
      "text/plain": [
       "0.528"
      ]
     },
     "execution_count": 4,
     "metadata": {},
     "output_type": "execute_result"
    }
   ],
   "source": [
    "round(tube_1.splitting(),3)"
   ]
  },
  {
   "cell_type": "markdown",
   "id": "3e091bcd",
   "metadata": {},
   "source": [
    "### Графики"
   ]
  },
  {
   "cell_type": "code",
   "execution_count": 5,
   "id": "d4f44827",
   "metadata": {},
   "outputs": [],
   "source": [
    "def pop(arr):\n",
    "    return arr[:-1].copy()\n",
    "\n",
    "def create_x():\n",
    "    x = np.linspace(0.1,2,20)\n",
    "    x = pop(x)\n",
    "    x = np.concatenate([x,np.linspace(2,5,7)])\n",
    "    x = pop(x)\n",
    "    x = np.concatenate([x,np.linspace(5,10,6)])\n",
    "    return x"
   ]
  },
  {
   "cell_type": "code",
   "execution_count": 6,
   "id": "fe0f342c",
   "metadata": {},
   "outputs": [],
   "source": [
    "#ф-ция строит 3 кривые на одном графике\n",
    "#и сохраняет график\n",
    "def lines(x, k_1, k_2, filename = \"\", dirname = \"\", k = []):\n",
    "    plt.scatter(x, k_1, label= \"Без разбиения\", marker=\"o\")\n",
    "    plt.plot(x, k_1)\n",
    "        \n",
    "    plt.scatter(x, k_2, label= \"С разбиением\" , marker=\"o\")\n",
    "    plt.plot(x, k_2)\n",
    "    \n",
    "    if len(k) and (type(k) is np.ndarray):\n",
    "        plt.scatter(x, k, label= \"Теоретический\", marker=\"o\")\n",
    "        plt.plot(x, k)\n",
    "    plt.legend()\n",
    "    Graph().save(filename, dirname)\n",
    "    return\n",
    "\n",
    "#ф-ция строит, называет,\n",
    "#выводит и сохраняет график\n",
    "def draw():\n",
    "    graph= Graph()\n",
    "    graph.customize_graph(\"Проводимость в круглом сечении при L/d < 2\", \"L/d\")\n",
    "    \n",
    "    x   = create_x()\n",
    "    k_1 = [Round(element, 1/2).no_splitting() for element in x]\n",
    "    k_2 = [Round(element, 1/2).splitting()    for element in x]\n",
    "    lines(x, k_1, k_2, \"L less then 10.png\", \"round\", graph.k[1:])\n",
    "    plt.show()\n",
    "    return"
   ]
  },
  {
   "cell_type": "code",
   "execution_count": 7,
   "id": "02be6c91",
   "metadata": {
    "scrolled": false
   },
   "outputs": [
    {
     "data": {
      "image/png": "[encoded data removed]",
      "text/plain": [
       "<Figure size 864x648 with 1 Axes>"
      ]
     },
     "metadata": {
      "needs_background": "light"
     },
     "output_type": "display_data"
    }
   ],
   "source": [
    "draw()"
   ]
  }
 ],
 "metadata": {
  "kernelspec": {
   "display_name": "Python 3 (ipykernel)",
   "language": "python",
   "name": "python3"
  },
  "language_info": {
   "codemirror_mode": {
    "name": "ipython",
    "version": 3
   },
   "file_extension": ".py",
   "mimetype": "text/x-python",
   "name": "python",
   "nbconvert_exporter": "python",
   "pygments_lexer": "ipython3",
   "version": "3.9.7"
  }
 },
 "nbformat": 4,
 "nbformat_minor": 5
}
