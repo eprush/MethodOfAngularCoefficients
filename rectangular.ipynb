{
 "cells": [
  {
   "cell_type": "markdown",
   "id": "5c675bef",
   "metadata": {},
   "source": [
    "# Расчет проводимости трубопроводов с помощью МУК"
   ]
  },
  {
   "cell_type": "code",
   "execution_count": 1,
   "id": "40d7cd37",
   "metadata": {},
   "outputs": [],
   "source": [
    "import os\n",
    "import math\n",
    "import numpy as np\n",
    "from graph import Graph\n",
    "from matplotlib import pyplot as plt"
   ]
  },
  {
   "cell_type": "markdown",
   "id": "30cbb01f",
   "metadata": {},
   "source": [
    "## Прямоугольное сечение"
   ]
  },
  {
   "cell_type": "markdown",
   "id": "df7bde1c",
   "metadata": {},
   "source": [
    "### Угловые коэффициенты"
   ]
  },
  {
   "cell_type": "code",
   "execution_count": 2,
   "id": "bef8a63a",
   "metadata": {},
   "outputs": [],
   "source": [
    "def scalar_prod(v_1, v_2):\n",
    "    v_1 , v_2 = np.array(v_1), np.array(v_2)\n",
    "    return (v_1*v_2).sum()\n",
    "\n",
    "def module(v):\n",
    "    return math.sqrt( scalar_prod(v, v) )\n",
    "\n",
    "def elementary(center_i : list, center_j : list, normal_i : list, normal_j : list, F_j):\n",
    "    #F_j - площадь одной ячейки коллектора\n",
    "    center_i, center_j = np.array(center_i), np.array(center_j)\n",
    "    \n",
    "    r        = module(center_i - center_j)\n",
    "    n_i, n_j = module(normal_i), module(normal_j)\n",
    "    \n",
    "    cos_1 = abs( scalar_prod( normal_i, center_j - center_i ) ) / (r*n_i)\n",
    "    cos_2 = abs( scalar_prod( normal_j, center_i - center_j ) ) / (r*n_j)\n",
    "    return cos_1*cos_2/(math.pi*r**2)*F_j"
   ]
  },
  {
   "cell_type": "code",
   "execution_count": 3,
   "id": "3fe19812",
   "metadata": {},
   "outputs": [],
   "source": [
    "def local(center_i, centers_2, normal_i, normal_j, F_j):\n",
    "    #F_j - площадь одной ячейки коллектора\n",
    "    return sum([ elementary(center_i, center, normal_i, normal_j, F_j) for center in centers_2])\n",
    "\n",
    "def total(centers_1, centers_2,normal_1, normal_2, F_i, F_j):\n",
    "    #F_i - площадь одной ячейки эмиттера\n",
    "    return sum( [ local(center, centers_2, normal_1, normal_2, F_j) for center in centers_1 ] ) * F_i"
   ]
  },
  {
   "cell_type": "markdown",
   "id": "8161edd0",
   "metadata": {},
   "source": [
    "### Проводимость"
   ]
  },
  {
   "cell_type": "code",
   "execution_count": 4,
   "id": "11297afd",
   "metadata": {},
   "outputs": [],
   "source": [
    "#функции разбиения каждой отдельной поверхности на ячейки\n",
    "def breaking_1(a, b, l, s = 0) -> list:\n",
    "    res = []\n",
    "    for i in range(l):\n",
    "        x = a/(2*l) + a/l*i\n",
    "        for j in range(l):\n",
    "            z = b/(2*l) + b/l*j\n",
    "            center = [x,0,z]\n",
    "            res.append(center)\n",
    "    return res\n",
    "\n",
    "def breaking_2(a, b, l, s) -> list:\n",
    "    res = []\n",
    "    for i in range(l):\n",
    "        x = a/(2*l) + a/l*i\n",
    "        for j in range(l):\n",
    "            z = b/(2*l) + b/l*j\n",
    "            center = [x,s,z]\n",
    "            res.append(center)\n",
    "    return res\n",
    "\n",
    "def breaking_3(a, b, l, s) -> list:\n",
    "    res = []\n",
    "    for i in range(l):\n",
    "        x = a/(2*l) + a/l*i\n",
    "        for j in range(l):\n",
    "            y = s/(2*l) + s/l*j\n",
    "            center = [x,y,b]\n",
    "            res.append(center)\n",
    "    return res\n",
    "\n",
    "def breaking_4(a, b, l, s) -> list:\n",
    "    res = []\n",
    "    for i in range(l):\n",
    "        y = s/(2*l) + s/l*i\n",
    "        for j in range(l):\n",
    "            z = b/(2*l) + b/l*j\n",
    "            center = [0,y,z]\n",
    "            res.append(center)\n",
    "    return res\n",
    "\n",
    "def breaking_5(a, b, l, s) -> list:\n",
    "    res = []\n",
    "    for i in range(l):\n",
    "        x = a/(2*l) + a/l*i\n",
    "        for j in range(l):\n",
    "            y = s/(2*l) + s/l*j\n",
    "            center = [x,y,0]\n",
    "            res.append(center)\n",
    "    return res\n",
    "\n",
    "def breaking_6(a, b, l, s) -> list:\n",
    "    res = []\n",
    "    for i in range(l):\n",
    "        y = s/(2*l) + s/l*i\n",
    "        for j in range(l):\n",
    "            z = b/(2*l) + b/l*j\n",
    "            center = [a,y,z]\n",
    "            res.append(center)\n",
    "    return res"
   ]
  },
  {
   "cell_type": "code",
   "execution_count": 5,
   "id": "be00481f",
   "metadata": {},
   "outputs": [],
   "source": [
    "#площади \"уникальных\" поверхностей - area_1 == area_2 etc\n",
    "def area_1(a,b,s):\n",
    "    return a*b\n",
    "\n",
    "def area_3(a,b,s):\n",
    "    return a*s\n",
    "\n",
    "def area_4(a,b,s):\n",
    "    return s*b"
   ]
  },
  {
   "cell_type": "code",
   "execution_count": 6,
   "id": "a20ac5e3",
   "metadata": {},
   "outputs": [],
   "source": [
    "class Conduct:\n",
    "    def __init__(self, a, b, L):\n",
    "        self.a = a\n",
    "        self.b = b\n",
    "        self.L = L\n",
    "        #1-входное, 2-выходное сечения\n",
    "        #3-верхняя,5-нижняя грани\n",
    "        #если смотреть в направлении от 1 к 2, то 3,4,5 и 6 грани пронумерованы по часовой стрелке\n",
    "        self.normals  = [ [0,1,0], [0,1,0], [0,0,1], [1,0,0], [0,0,1], [1,0,0] ]\n",
    "        self.breaking = [ breaking_1, breaking_2, breaking_3, breaking_4, breaking_5, breaking_6 ]\n",
    "        self.areas    = [ area_1, area_1, area_3, area_4, area_3, area_4 ]\n",
    "        \n",
    "    def calc(self, j, l_1 = 10, l_2 = 10):\n",
    "        #j - номер коллектора от 1 до 6\n",
    "        #l_1, l_2 - на сколько частей разбить эмиттеры и коллектор\n",
    "        j-=1 #номер коллектора в массивах\n",
    "        \n",
    "        #параметры коллектора\n",
    "        collector = self.breaking[j](self.a,self.b,l_2,self.L)\n",
    "        normal_j  = self.normals[j]\n",
    "        area_j    = self.areas[j](self.a,self.b,self.L)/l_2**2\n",
    "        \n",
    "        #параметры эмиттеров\n",
    "        normals_i = [self.normals[i]   for i in range(6) if i != j]\n",
    "        emitters  = [self.breaking[i]  for i in range(6) if i != j]\n",
    "        areas_i   = [self.areas[i](self.a,self.b,self.L) for i in range(6) if i != j]\n",
    "        \n",
    "        res = 0\n",
    "        for i in range(5):\n",
    "            emitter  = emitters[i](self.a,self.b,l_1,self.L)\n",
    "            normal_i = normals_i[i]\n",
    "            area_i   = areas_i[i]/l_1**2\n",
    "            \n",
    "            res += total(emitter, collector, normal_i, normal_j, area_i, area_j)/areas_i[i]\n",
    "        return res"
   ]
  },
  {
   "cell_type": "markdown",
   "id": "05c5c7c7",
   "metadata": {},
   "source": [
    "### Тестирование"
   ]
  },
  {
   "cell_type": "code",
   "execution_count": 7,
   "id": "7e0f19bc",
   "metadata": {},
   "outputs": [],
   "source": [
    "#тесты на сами УК\n",
    "def test_1(c):\n",
    "    #совпадают ли потоки на симметричные поверхности\n",
    "    print(\"1-й = 2-му:\", round(c.calc(1,14,14),6) == round(c.calc(2, 14, 14),6))\n",
    "    for i in range(3,5):\n",
    "        print(str(i)+\"-й = \"+str(i+2)+\"-му:\", round(c.calc(i,14,14),6) == round(c.calc(i+2, 14, 14),6))\n",
    "    print(\"\\n\")\n",
    "    return\n",
    "\n",
    "def test_2(c):\n",
    "    #меньше ли 1\n",
    "    for i in [1,3,4]:\n",
    "        print(str(i)+\"-й УК меньше 1:\", round(c.calc(i,14,14),6) <= 1)\n",
    "    print(\"\\n\")\n",
    "    return\n",
    "    \n",
    "def test_3(c):\n",
    "    #больше ли 0\n",
    "    for i in [1,3,4]:\n",
    "        print(str(i)+\"-й УК больше 0:\", round(c.calc(i,14,14),6) >= 0)\n",
    "    print(\"\\n\")\n",
    "    return"
   ]
  },
  {
   "cell_type": "code",
   "execution_count": 8,
   "id": "fbf48d63",
   "metadata": {},
   "outputs": [
    {
     "name": "stdout",
     "output_type": "stream",
     "text": [
      "1-й = 2-му: True\n",
      "3-й = 5-му: True\n",
      "4-й = 6-му: True\n",
      "\n",
      "\n",
      "1-й = 2-му: True\n",
      "3-й = 5-му: True\n",
      "4-й = 6-му: True\n",
      "\n",
      "\n"
     ]
    }
   ],
   "source": [
    "c_1, c_2 = Conduct(1,1,1), Conduct(1,5,1)\n",
    "test_1(c_1)\n",
    "test_1(c_2)"
   ]
  },
  {
   "cell_type": "code",
   "execution_count": 9,
   "id": "f6a9e648",
   "metadata": {},
   "outputs": [
    {
     "name": "stdout",
     "output_type": "stream",
     "text": [
      "1-й УК меньше 1: False\n",
      "3-й УК меньше 1: False\n",
      "4-й УК меньше 1: False\n",
      "\n",
      "\n",
      "1-й УК меньше 1: False\n",
      "3-й УК меньше 1: True\n",
      "4-й УК меньше 1: False\n",
      "\n",
      "\n"
     ]
    }
   ],
   "source": [
    "test_2(c_1)\n",
    "test_2(c_2)"
   ]
  },
  {
   "cell_type": "code",
   "execution_count": 10,
   "id": "001e2249",
   "metadata": {},
   "outputs": [
    {
     "name": "stdout",
     "output_type": "stream",
     "text": [
      "1-й УК больше 0: True\n",
      "3-й УК больше 0: True\n",
      "4-й УК больше 0: True\n",
      "\n",
      "\n",
      "1-й УК больше 0: True\n",
      "3-й УК больше 0: True\n",
      "4-й УК больше 0: True\n",
      "\n",
      "\n"
     ]
    }
   ],
   "source": [
    "test_3(c_1)\n",
    "test_3(c_2)"
   ]
  },
  {
   "cell_type": "code",
   "execution_count": 11,
   "id": "9aa84f24",
   "metadata": {},
   "outputs": [],
   "source": [
    "def angles(num = 5):\n",
    "    #зависимость элементарного УК от угла\n",
    "    c_i = [1/2, 0, 1/2]\n",
    "    c_j = [1/2, 1, 1/2]\n",
    "    n_i = [0,1,0]\n",
    "    angle_ar = np.linspace(0,1,num)*math.pi\n",
    "    \n",
    "    x, y = np.sin(angle_ar), np.cos(angle_ar)\n",
    "    Y    = []\n",
    "    for i in range(num):\n",
    "        n_j = [x[i], y[i], 0]\n",
    "        X   = angle_ar/math.pi*180\n",
    "        Y.append(elementary(c_i,c_j,n_i,n_j,0.05))\n",
    "    \n",
    "    graph = Graph()\n",
    "    graph.customize_graph(\"Зависимость  элем-го УК от угла\", \"Угол в градусах\")\n",
    "    plt.plot(X,Y, marker=\"o\")\n",
    "    graph.save(\"angle.png\", \"tests\")\n",
    "    return\n",
    "\n",
    "def distance(num = 5):\n",
    "    #зависимость  элем-го УК от расстояния\n",
    "    c_i  = [1/2, 0, 1/2]\n",
    "    n_i  = [0,1,0]\n",
    "    n_j  = [np.sin(math.pi/4), np.cos(math.pi/4),0]\n",
    "    dist = np.linspace(0,10,num)\n",
    "    Y    = []\n",
    "    for d in dist:\n",
    "        c_j = c_j = [1/2, d, 1/2]\n",
    "        Y.append(elementary(c_i,c_j,n_i,n_j,0.05))\n",
    "        \n",
    "    graph = Graph()\n",
    "    graph.customize_graph(\"Зависимость  элем-го УК от расстояния\", \"Расстояние\")\n",
    "    plt.plot(dist,Y, marker=\"o\")\n",
    "    graph.save(\"distance.png\", \"tests\")\n",
    "    return"
   ]
  },
  {
   "cell_type": "code",
   "execution_count": 12,
   "id": "b0ccbba6",
   "metadata": {},
   "outputs": [
    {
     "data": {
      "image/png": "[encoded data removed]",
      "text/plain": [
       "<Figure size 864x648 with 1 Axes>"
      ]
     },
     "metadata": {
      "needs_background": "light"
     },
     "output_type": "display_data"
    }
   ],
   "source": [
    "angles(50)"
   ]
  },
  {
   "cell_type": "code",
   "execution_count": 13,
   "id": "b2c1dc4e",
   "metadata": {},
   "outputs": [
    {
     "name": "stderr",
     "output_type": "stream",
     "text": [
      "C:\\Users\\ASUS\\AppData\\Local\\Temp/ipykernel_12100/3921988960.py:15: RuntimeWarning: invalid value encountered in double_scalars\n",
      "  cos_1 = abs( scalar_prod( normal_i, center_j - center_i ) ) / (r*n_i)\n",
      "C:\\Users\\ASUS\\AppData\\Local\\Temp/ipykernel_12100/3921988960.py:16: RuntimeWarning: invalid value encountered in double_scalars\n",
      "  cos_2 = abs( scalar_prod( normal_j, center_i - center_j ) ) / (r*n_j)\n"
     ]
    },
    {
     "data": {
      "image/png": "[encoded data removed]",
      "text/plain": [
       "<Figure size 864x648 with 1 Axes>"
      ]
     },
     "metadata": {
      "needs_background": "light"
     },
     "output_type": "display_data"
    }
   ],
   "source": [
    "distance(20)"
   ]
  }
 ],
 "metadata": {
  "kernelspec": {
   "display_name": "Python 3 (ipykernel)",
   "language": "python",
   "name": "python3"
  },
  "language_info": {
   "codemirror_mode": {
    "name": "ipython",
    "version": 3
   },
   "file_extension": ".py",
   "mimetype": "text/x-python",
   "name": "python",
   "nbconvert_exporter": "python",
   "pygments_lexer": "ipython3",
   "version": "3.9.7"
  }
 },
 "nbformat": 4,
 "nbformat_minor": 5
}
