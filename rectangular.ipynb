{
 "cells": [
  {
   "cell_type": "markdown",
   "id": "5c675bef",
   "metadata": {},
   "source": [
    "# Расчет проводимости трубопроводов с помощью МУК"
   ]
  },
  {
   "cell_type": "code",
   "execution_count": 1,
   "id": "40d7cd37",
   "metadata": {},
   "outputs": [],
   "source": [
    "import os\n",
    "import math\n",
    "import numpy as np\n",
    "from graph import Graph #собственный класс для графиков\n",
    "from matplotlib import pyplot as plt"
   ]
  },
  {
   "cell_type": "markdown",
   "id": "30cbb01f",
   "metadata": {},
   "source": [
    "## Прямоугольное сечение"
   ]
  },
  {
   "cell_type": "markdown",
   "id": "df7bde1c",
   "metadata": {},
   "source": [
    "### Угловые коэффициенты"
   ]
  },
  {
   "cell_type": "code",
   "execution_count": 2,
   "id": "bef8a63a",
   "metadata": {},
   "outputs": [],
   "source": [
    "def scalar_prod(v_1, v_2):\n",
    "    v_1 , v_2 = np.array(v_1), np.array(v_2)\n",
    "    return (v_1*v_2).sum()\n",
    "\n",
    "def module(v):\n",
    "    return math.sqrt( scalar_prod(v, v) )\n",
    "\n",
    "def elementary(center_i : list, center_j : list, normal_i : list, normal_j : list, F_j):\n",
    "    #F_j - площадь одной ячейки коллектора.\n",
    "    center_i, center_j = np.array(center_i), np.array(center_j)\n",
    "    \n",
    "    r        = module(center_i - center_j)\n",
    "    n_i, n_j = module(normal_i), module(normal_j)\n",
    "    \n",
    "    cos_1 = abs( scalar_prod( normal_i, center_j - center_i ) ) / (r*n_i)\n",
    "    cos_2 = abs( scalar_prod( normal_j, center_i - center_j ) ) / (r*n_j)\n",
    "    return cos_1*cos_2/(math.pi*r**2)*F_j"
   ]
  },
  {
   "cell_type": "code",
   "execution_count": 3,
   "id": "3fe19812",
   "metadata": {},
   "outputs": [],
   "source": [
    "def local(center_i, centers_2, normal_i, normal_j, F_j):\n",
    "    return sum([ elementary(center_i, center, normal_i, normal_j, F_j) for center in centers_2])\n",
    "\n",
    "def emitter_to_collector(centers_1, centers_2,normal_1, normal_2, F_i, F_j):\n",
    "    #F_i - площадь одной ячейки эмиттера.\n",
    "    return sum( [ local(center, centers_2, normal_1, normal_2, F_j) for center in centers_1 ] ) * F_i"
   ]
  },
  {
   "cell_type": "markdown",
   "id": "8161edd0",
   "metadata": {},
   "source": [
    "### Разбиение"
   ]
  },
  {
   "cell_type": "code",
   "execution_count": 4,
   "id": "630ed351",
   "metadata": {},
   "outputs": [],
   "source": [
    "def euclid(num_1, num_2):\n",
    "    while num_1 != num_2:\n",
    "        if num_1 > num_2:\n",
    "            num_1 -= num_2\n",
    "        else:\n",
    "            num_2 -= num_1\n",
    "    return num_1\n",
    "\n",
    "#ф-ция находит минимальное количество квадратов\n",
    "#с одинаковой площадью, на которое можно разбить\n",
    "#данный прямоугольник\n",
    "def search_squares(a : int, b : int) -> int:\n",
    "    gcd = euclid(a,b) #НОД\n",
    "    return a*b/gcd\n",
    "\n",
    "#ф-ция ищет оптимальное кол-во квадратов \n",
    "#в зависимости от введенного кол-ва\n",
    "def optimal_squares(a, b, num):\n",
    "    min_num = search_squares(a,b)\n",
    "    n       = num//(4*min_num)\n",
    "    return min_num if n == 0 else 4*min_num*n"
   ]
  },
  {
   "cell_type": "code",
   "execution_count": 5,
   "id": "11297afd",
   "metadata": {},
   "outputs": [],
   "source": [
    "#функции разбиения каждой отдельной поверхности на ячейки.\n",
    "#1-входное, 2-выходное сечения.\n",
    "#3-верхняя, 5-нижняя грани.\n",
    "#если смотреть в направлении от 1 к 2, то\n",
    "#3,4,5 и 6 грани пронумерованы по часовой стрелке.\n",
    "def breaking_1(a, b, num, s = 0) -> list:\n",
    "    #a - вдоль x, b - вдоль z, s - вдоль y\n",
    "    res = []\n",
    "    num = optimal_squares(a,b,num)\n",
    "    \n",
    "    square_side = math.sqrt(a*b/num)\n",
    "    l_1 = int(a/square_side)\n",
    "    l_2 = int(b/square_side)\n",
    "    for i in range(l_1):\n",
    "        x = a/(2*l_1) + a/l_1*i\n",
    "        for j in range(l_2):\n",
    "            z = b/(2*l_2) + b/l_2*j\n",
    "            center = [x,0,z]\n",
    "            res.append(center)\n",
    "    return res, num\n",
    "\n",
    "def breaking_2(a, b, num, s) -> list:\n",
    "    res = []\n",
    "    num = optimal_squares(a,b,num)\n",
    "    \n",
    "    square_side = math.sqrt(a*b/num)\n",
    "    l_1 = int(a/square_side)\n",
    "    l_2 = int(b/square_side)\n",
    "    for i in range(l_1):\n",
    "        x = a/(2*l_1) + a/l_1*i\n",
    "        for j in range(l_2):\n",
    "            z = b/(2*l_2) + b/l_2*j\n",
    "            center = [x,s,z]\n",
    "            res.append(center)\n",
    "    return res, num\n",
    "\n",
    "def breaking_3(a, b, num, s) -> list:\n",
    "    res = []\n",
    "    num = optimal_squares(a,s,num)\n",
    "    \n",
    "    square_side = math.sqrt(a*s/num)\n",
    "    l_1 = int(a/square_side)\n",
    "    l_2 = int(s/square_side)\n",
    "    for i in range(l_1):\n",
    "        x = a/(2*l_1) + a/l_1*i\n",
    "        for j in range(l_2):\n",
    "            y = s/(2*l_2) + s/l_2*j\n",
    "            center = [x,y,b]\n",
    "            res.append(center)\n",
    "    return res, num\n",
    "\n",
    "def breaking_4(a, b, num, s) -> list:\n",
    "    res = []\n",
    "    num = optimal_squares(s,b,num)\n",
    "    \n",
    "    square_side = math.sqrt(s*b/num)\n",
    "    l_1 = int(s/square_side)\n",
    "    l_2 = int(b/square_side)\n",
    "    for i in range(l_1):\n",
    "        y = s/(2*l_1) + s/l_1*i\n",
    "        for j in range(l_2):\n",
    "            z = b/(2*l_2) + b/l_2*j\n",
    "            center = [0,y,z]\n",
    "            res.append(center)\n",
    "    return res, num\n",
    "\n",
    "def breaking_5(a, b, num, s) -> list:\n",
    "    res = []\n",
    "    num = optimal_squares(a,s,num)\n",
    "    \n",
    "    square_side = math.sqrt(a*s/num)\n",
    "    l_1 = int(a/square_side)\n",
    "    l_2 = int(s/square_side)\n",
    "    for i in range(l_1):\n",
    "        x = a/(2*l_1) + a/l_1*i\n",
    "        for j in range(l_2):\n",
    "            y = s/(2*l_2) + s/l_2*j\n",
    "            center = [x,y,0]\n",
    "            res.append(center)\n",
    "    return res, num\n",
    "\n",
    "def breaking_6(a, b, num, s) -> list:\n",
    "    res = []\n",
    "    num = optimal_squares(s,b,num)\n",
    "    \n",
    "    square_side = math.sqrt(s*b/num)\n",
    "    l_1 = int(s/square_side)\n",
    "    l_2 = int(b/square_side)\n",
    "    for i in range(l_1):\n",
    "        y = s/(2*l_1) + s/l_1*i\n",
    "        for j in range(l_2):\n",
    "            z = b/(2*l_2) + b/l_2*j\n",
    "            center = [a,y,z]\n",
    "            res.append(center)\n",
    "    return res, num"
   ]
  },
  {
   "cell_type": "code",
   "execution_count": 6,
   "id": "be00481f",
   "metadata": {},
   "outputs": [],
   "source": [
    "#площади \"уникальных\" поверхностей - area_1 == area_2 итд\n",
    "def area_1(a, b, s):\n",
    "    return a*b\n",
    "\n",
    "def area_3(a, b, s):\n",
    "    return a*s\n",
    "\n",
    "def area_4(a, b, s):\n",
    "    return s*b"
   ]
  },
  {
   "cell_type": "markdown",
   "id": "958ceb71",
   "metadata": {},
   "source": [
    "### Проводимость"
   ]
  },
  {
   "cell_type": "code",
   "execution_count": 7,
   "id": "a20ac5e3",
   "metadata": {},
   "outputs": [],
   "source": [
    "class Rectangular:\n",
    "    def __init__(self, a, b, L):\n",
    "        self.a = a\n",
    "        self.b = b\n",
    "        self.L = L\n",
    "        self.normals  = [ [0,1,0], [0,1,0], [0,0,1], [1,0,0], [0,0,1], [1,0,0] ]\n",
    "        self.breaking = [ breaking_1, breaking_2, breaking_3, breaking_4, breaking_5, breaking_6 ]\n",
    "        self.areas    = [ area_1, area_1, area_3, area_4, area_3, area_4 ]\n",
    "    \n",
    "    def some_pair(self, i, j, num_1, num_2):\n",
    "        #i - номер эмиттера   от 1 до 6.\n",
    "        #j - номер коллектора от 1 до 6.\n",
    "        #num_1, num_2 - на сколько частей разбить\n",
    "        #эмиттер и коллектор соответсвенно.\n",
    "        i-=1 #это - номер эмиттера   в массивах.\n",
    "        j-=1 #это - номер коллектора в массивах.\n",
    "        \n",
    "        #параметры коллектора:\n",
    "        #num_j - число квадратов на которое \n",
    "        #удалось разделить коллектор в итоге\n",
    "        collector, num_j = self.breaking[j](self.a,self.b,num_2,self.L)\n",
    "        normal_j= self.normals[j]\n",
    "        cell_j  = self.areas[j](self.a,self.b,self.L)/num_j\n",
    "        \n",
    "        #параметры эмиттера:\n",
    "        #num_i - число квадратов на которое \n",
    "        #удалось разделить эмиттер в итоге\n",
    "        emitter, num_i = self.breaking[i](self.a,self.b,num_1,self.L)\n",
    "        normal_i= self.normals[i]\n",
    "        area_i  = self.areas[i](self.a,self.b,self.L)\n",
    "        cell_i  = area_i/num_i\n",
    "        return emitter_to_collector(emitter, normal_i, collector, normal_j, cell_i, cell_j)/area_i\n",
    "    \n",
    "    def matrix(self, num_1, num_2):\n",
    "        res  = np.array([])    #будущая матрица УК\n",
    "        line = np.array([0]*6) #текущий столбец матрицы\n",
    "        #т.к. УК вида phi_21, phi_31, ..., phi_61\n",
    "        #не используются в дальнейшем\n",
    "        res  = np.append(res, line)\n",
    "        line = np.array([0]*6)\n",
    "        for j in range(2,5):\n",
    "            #благодаря симметрии УК для граней 5 и 6\n",
    "            #в качестве коллекторов можно не считать,\n",
    "            #симметрия учтена при решении системы ур-ний 2.1\n",
    "            res  = np.append(res, line)\n",
    "            line = np.array([])\n",
    "            for i in range(7):\n",
    "                #чтобы phi_ij = matrix[j][i]\n",
    "                if i:\n",
    "                    line = np.append(line, self.some_pair(i,j,num_1,num_2))\n",
    "                else:\n",
    "                    line = np.array([0])\n",
    "                    \n",
    "        #транспонируем, чтобы можно было \n",
    "        #найти phi_ij = matrix[i][j],\n",
    "        #а не  phi_ij = matrix[j][i]\n",
    "        return np.transpose(res)\n",
    "    \n",
    "    def clausing(self, num_1 = 10, num_2 = 10):\n",
    "        phi = self.matrix(num_1, num_2)\n",
    "        \n",
    "        q_3 = phi[1][3] + phi[1][4]/(1-phi[6][4])\n",
    "        q_3/= 1 - phi[5][3] - 2*phi[4][3]*2*phi[3][4]/(1-phi[6][4])\n",
    "        \n",
    "        q_4 = phi[1][4]+2*phi[3][4]*q_3\n",
    "        q_4/= 1 - phi[6][4]\n",
    "        \n",
    "        res = phi[1][2]\n",
    "        res+= 2*phi[3][2]*q_3\n",
    "        res+= 2*phi[4][2]*q_4\n",
    "        return res"
   ]
  },
  {
   "cell_type": "markdown",
   "id": "05c5c7c7",
   "metadata": {},
   "source": [
    "### Тестирование"
   ]
  },
  {
   "cell_type": "code",
   "execution_count": 8,
   "id": "7e0f19bc",
   "metadata": {},
   "outputs": [],
   "source": [
    "#тесты на сами УК\n",
    "def test_1(t, num_1 = 10, num_2 = 10):\n",
    "    #вывод всех пар УК\n",
    "    phi = t.matrix(num_1, num_2)\n",
    "    for i in range(1,len(phi)):\n",
    "        for j in range(1,len(phi[i])):\n",
    "            print(\"phi_\" + str(i)+str(j) + \" =\", phi[i][j])\n",
    "    return\n",
    "\n",
    "def test_2(t, num_1 = 10, num_2 = 10):\n",
    "    #меньше ли 1\n",
    "    return t.clausing(l_1,l_2) <= 1\n",
    "\n",
    "def test_3(t, num_1 = 10, num_2 = 10):\n",
    "    #больше ли 0\n",
    "    return t.clausing(l_1,l_2) >= 0"
   ]
  },
  {
   "cell_type": "code",
   "execution_count": 9,
   "id": "fbf48d63",
   "metadata": {},
   "outputs": [],
   "source": [
    "tube1, tube_2 = Rectangular(1,1,1), Rectangular(1,5,1)"
   ]
  },
  {
   "cell_type": "code",
   "execution_count": 10,
   "id": "cade3bce",
   "metadata": {},
   "outputs": [
    {
     "ename": "NameError",
     "evalue": "name 'l_2' is not defined",
     "output_type": "error",
     "traceback": [
      "\u001b[1;31m---------------------------------------------------------------------------\u001b[0m",
      "\u001b[1;31mNameError\u001b[0m                                 Traceback (most recent call last)",
      "\u001b[1;32m~\\AppData\\Local\\Temp/ipykernel_14280/1857896306.py\u001b[0m in \u001b[0;36m<module>\u001b[1;34m\u001b[0m\n\u001b[1;32m----> 1\u001b[1;33m \u001b[0mtest_1\u001b[0m\u001b[1;33m(\u001b[0m\u001b[0mtube1\u001b[0m\u001b[1;33m)\u001b[0m\u001b[1;33m\u001b[0m\u001b[1;33m\u001b[0m\u001b[0m\n\u001b[0m\u001b[0;32m      2\u001b[0m \u001b[0mtest_1\u001b[0m\u001b[1;33m(\u001b[0m\u001b[0mtube_2\u001b[0m\u001b[1;33m)\u001b[0m\u001b[1;33m\u001b[0m\u001b[1;33m\u001b[0m\u001b[0m\n",
      "\u001b[1;32m~\\AppData\\Local\\Temp/ipykernel_14280/4242827169.py\u001b[0m in \u001b[0;36mtest_1\u001b[1;34m(t, num_1, num_2)\u001b[0m\n\u001b[0;32m      2\u001b[0m \u001b[1;32mdef\u001b[0m \u001b[0mtest_1\u001b[0m\u001b[1;33m(\u001b[0m\u001b[0mt\u001b[0m\u001b[1;33m,\u001b[0m \u001b[0mnum_1\u001b[0m \u001b[1;33m=\u001b[0m \u001b[1;36m10\u001b[0m\u001b[1;33m,\u001b[0m \u001b[0mnum_2\u001b[0m \u001b[1;33m=\u001b[0m \u001b[1;36m10\u001b[0m\u001b[1;33m)\u001b[0m\u001b[1;33m:\u001b[0m\u001b[1;33m\u001b[0m\u001b[1;33m\u001b[0m\u001b[0m\n\u001b[0;32m      3\u001b[0m     \u001b[1;31m#вывод всех пар УК\u001b[0m\u001b[1;33m\u001b[0m\u001b[1;33m\u001b[0m\u001b[0m\n\u001b[1;32m----> 4\u001b[1;33m     \u001b[0mphi\u001b[0m \u001b[1;33m=\u001b[0m \u001b[0mt\u001b[0m\u001b[1;33m.\u001b[0m\u001b[0mmatrix\u001b[0m\u001b[1;33m(\u001b[0m\u001b[0mnum_1\u001b[0m\u001b[1;33m,\u001b[0m \u001b[0mnum_2\u001b[0m\u001b[1;33m)\u001b[0m\u001b[1;33m\u001b[0m\u001b[1;33m\u001b[0m\u001b[0m\n\u001b[0m\u001b[0;32m      5\u001b[0m     \u001b[1;32mfor\u001b[0m \u001b[0mi\u001b[0m \u001b[1;32min\u001b[0m \u001b[0mrange\u001b[0m\u001b[1;33m(\u001b[0m\u001b[1;36m1\u001b[0m\u001b[1;33m,\u001b[0m\u001b[0mlen\u001b[0m\u001b[1;33m(\u001b[0m\u001b[0mphi\u001b[0m\u001b[1;33m)\u001b[0m\u001b[1;33m)\u001b[0m\u001b[1;33m:\u001b[0m\u001b[1;33m\u001b[0m\u001b[1;33m\u001b[0m\u001b[0m\n\u001b[0;32m      6\u001b[0m         \u001b[1;32mfor\u001b[0m \u001b[0mj\u001b[0m \u001b[1;32min\u001b[0m \u001b[0mrange\u001b[0m\u001b[1;33m(\u001b[0m\u001b[1;36m1\u001b[0m\u001b[1;33m,\u001b[0m\u001b[0mlen\u001b[0m\u001b[1;33m(\u001b[0m\u001b[0mphi\u001b[0m\u001b[1;33m[\u001b[0m\u001b[0mi\u001b[0m\u001b[1;33m]\u001b[0m\u001b[1;33m)\u001b[0m\u001b[1;33m)\u001b[0m\u001b[1;33m:\u001b[0m\u001b[1;33m\u001b[0m\u001b[1;33m\u001b[0m\u001b[0m\n",
      "\u001b[1;32m~\\AppData\\Local\\Temp/ipykernel_14280/639001378.py\u001b[0m in \u001b[0;36mmatrix\u001b[1;34m(self, num_1, num_2)\u001b[0m\n\u001b[0;32m     44\u001b[0m                 \u001b[1;31m#чтобы phi_ij = matrix[j][i]\u001b[0m\u001b[1;33m\u001b[0m\u001b[1;33m\u001b[0m\u001b[0m\n\u001b[0;32m     45\u001b[0m                 \u001b[1;32mif\u001b[0m \u001b[0mi\u001b[0m\u001b[1;33m:\u001b[0m\u001b[1;33m\u001b[0m\u001b[1;33m\u001b[0m\u001b[0m\n\u001b[1;32m---> 46\u001b[1;33m                     \u001b[0mline\u001b[0m \u001b[1;33m=\u001b[0m \u001b[0mnp\u001b[0m\u001b[1;33m.\u001b[0m\u001b[0mappend\u001b[0m\u001b[1;33m(\u001b[0m\u001b[0mline\u001b[0m\u001b[1;33m,\u001b[0m \u001b[0mself\u001b[0m\u001b[1;33m.\u001b[0m\u001b[0msome_pair\u001b[0m\u001b[1;33m(\u001b[0m\u001b[0mi\u001b[0m\u001b[1;33m,\u001b[0m\u001b[0mj\u001b[0m\u001b[1;33m,\u001b[0m\u001b[0mnum_1\u001b[0m\u001b[1;33m,\u001b[0m\u001b[0mnum_2\u001b[0m\u001b[1;33m)\u001b[0m\u001b[1;33m)\u001b[0m\u001b[1;33m\u001b[0m\u001b[1;33m\u001b[0m\u001b[0m\n\u001b[0m\u001b[0;32m     47\u001b[0m                 \u001b[1;32melse\u001b[0m\u001b[1;33m:\u001b[0m\u001b[1;33m\u001b[0m\u001b[1;33m\u001b[0m\u001b[0m\n\u001b[0;32m     48\u001b[0m                     \u001b[0mline\u001b[0m \u001b[1;33m=\u001b[0m \u001b[0mnp\u001b[0m\u001b[1;33m.\u001b[0m\u001b[0marray\u001b[0m\u001b[1;33m(\u001b[0m\u001b[1;33m[\u001b[0m\u001b[1;36m0\u001b[0m\u001b[1;33m]\u001b[0m\u001b[1;33m)\u001b[0m\u001b[1;33m\u001b[0m\u001b[1;33m\u001b[0m\u001b[0m\n",
      "\u001b[1;32m~\\AppData\\Local\\Temp/ipykernel_14280/639001378.py\u001b[0m in \u001b[0;36msome_pair\u001b[1;34m(self, i, j, num_1, num_2)\u001b[0m\n\u001b[0;32m     19\u001b[0m         \u001b[0mcollector\u001b[0m\u001b[1;33m=\u001b[0m \u001b[0mself\u001b[0m\u001b[1;33m.\u001b[0m\u001b[0mbreaking\u001b[0m\u001b[1;33m[\u001b[0m\u001b[0mj\u001b[0m\u001b[1;33m]\u001b[0m\u001b[1;33m(\u001b[0m\u001b[0mself\u001b[0m\u001b[1;33m.\u001b[0m\u001b[0ma\u001b[0m\u001b[1;33m,\u001b[0m\u001b[0mself\u001b[0m\u001b[1;33m.\u001b[0m\u001b[0mb\u001b[0m\u001b[1;33m,\u001b[0m\u001b[0mnum_2\u001b[0m\u001b[1;33m,\u001b[0m\u001b[0mself\u001b[0m\u001b[1;33m.\u001b[0m\u001b[0mL\u001b[0m\u001b[1;33m)\u001b[0m\u001b[1;33m[\u001b[0m\u001b[1;36m0\u001b[0m\u001b[1;33m]\u001b[0m\u001b[1;33m\u001b[0m\u001b[1;33m\u001b[0m\u001b[0m\n\u001b[0;32m     20\u001b[0m         \u001b[0mnormal_j\u001b[0m \u001b[1;33m=\u001b[0m \u001b[0mself\u001b[0m\u001b[1;33m.\u001b[0m\u001b[0mnormals\u001b[0m\u001b[1;33m[\u001b[0m\u001b[0mj\u001b[0m\u001b[1;33m]\u001b[0m\u001b[1;33m\u001b[0m\u001b[1;33m\u001b[0m\u001b[0m\n\u001b[1;32m---> 21\u001b[1;33m         \u001b[0mcell_j\u001b[0m   \u001b[1;33m=\u001b[0m \u001b[0mself\u001b[0m\u001b[1;33m.\u001b[0m\u001b[0mareas\u001b[0m\u001b[1;33m[\u001b[0m\u001b[0mj\u001b[0m\u001b[1;33m]\u001b[0m\u001b[1;33m(\u001b[0m\u001b[0mself\u001b[0m\u001b[1;33m.\u001b[0m\u001b[0ma\u001b[0m\u001b[1;33m,\u001b[0m\u001b[0mself\u001b[0m\u001b[1;33m.\u001b[0m\u001b[0mb\u001b[0m\u001b[1;33m,\u001b[0m\u001b[0mself\u001b[0m\u001b[1;33m.\u001b[0m\u001b[0mL\u001b[0m\u001b[1;33m)\u001b[0m\u001b[1;33m/\u001b[0m\u001b[0ml_2\u001b[0m\u001b[1;33m**\u001b[0m\u001b[1;36m2\u001b[0m\u001b[1;33m\u001b[0m\u001b[1;33m\u001b[0m\u001b[0m\n\u001b[0m\u001b[0;32m     22\u001b[0m \u001b[1;33m\u001b[0m\u001b[0m\n\u001b[0;32m     23\u001b[0m         \u001b[1;31m#параметры эмиттера\u001b[0m\u001b[1;33m\u001b[0m\u001b[1;33m\u001b[0m\u001b[0m\n",
      "\u001b[1;31mNameError\u001b[0m: name 'l_2' is not defined"
     ]
    }
   ],
   "source": [
    "test_1(tube1)\n",
    "test_1(tube_2)"
   ]
  },
  {
   "cell_type": "code",
   "execution_count": null,
   "id": "7a70961f",
   "metadata": {},
   "outputs": [],
   "source": [
    "test_2(c_1)\n",
    "test_2(c_2)"
   ]
  },
  {
   "cell_type": "code",
   "execution_count": null,
   "id": "e0250c21",
   "metadata": {},
   "outputs": [],
   "source": [
    "test_3(c_1)\n",
    "test_3(c_2)"
   ]
  },
  {
   "cell_type": "code",
   "execution_count": null,
   "id": "9aa84f24",
   "metadata": {},
   "outputs": [],
   "source": [
    "def angles(num = 5):\n",
    "    #зависимость элементарного УК от угла\n",
    "    c_i = [1/2, 0, 1/2]\n",
    "    c_j = [1/2, 1, 1/2]\n",
    "    n_i = [0,1,0]\n",
    "    angle_ar = np.linspace(0,1,num)*math.pi\n",
    "    \n",
    "    x, y = np.sin(angle_ar), np.cos(angle_ar)\n",
    "    Y    = []\n",
    "    for i in range(num):\n",
    "        n_j = [x[i], y[i], 0]\n",
    "        X   = angle_ar/math.pi*180\n",
    "        Y.append(elementary(c_i,c_j,n_i,n_j,0.05))\n",
    "    \n",
    "    graph = Graph()\n",
    "    graph.customize_graph(\"Зависимость  элем-го УК от угла\", \"Угол в градусах\")\n",
    "    plt.plot(X,Y, marker=\"o\")\n",
    "    graph.save(\"angle.png\", \"tests\")\n",
    "    return\n",
    "\n",
    "def distance(num = 5):\n",
    "    #зависимость  элем-го УК от расстояния\n",
    "    c_i  = [1/2, 0, 1/2]\n",
    "    n_i  = [0,1,0]\n",
    "    n_j  = [np.sin(math.pi/4), np.cos(math.pi/4),0]\n",
    "    dist = np.linspace(0,10,num)\n",
    "    Y    = []\n",
    "    for d in dist:\n",
    "        c_j = c_j = [1/2, d, 1/2]\n",
    "        Y.append(elementary(c_i,c_j,n_i,n_j,0.05))\n",
    "        \n",
    "    graph = Graph()\n",
    "    graph.customize_graph(\"Зависимость  элем-го УК от расстояния\", \"Расстояние\")\n",
    "    plt.plot(dist,Y, marker=\"o\")\n",
    "    graph.save(\"distance.png\", \"tests\")\n",
    "    return"
   ]
  },
  {
   "cell_type": "code",
   "execution_count": null,
   "id": "b0ccbba6",
   "metadata": {},
   "outputs": [],
   "source": [
    "angles(50)"
   ]
  },
  {
   "cell_type": "code",
   "execution_count": null,
   "id": "b2c1dc4e",
   "metadata": {},
   "outputs": [],
   "source": [
    "distance(20)"
   ]
  }
 ],
 "metadata": {
  "kernelspec": {
   "display_name": "Python 3 (ipykernel)",
   "language": "python",
   "name": "python3"
  },
  "language_info": {
   "codemirror_mode": {
    "name": "ipython",
    "version": 3
   },
   "file_extension": ".py",
   "mimetype": "text/x-python",
   "name": "python",
   "nbconvert_exporter": "python",
   "pygments_lexer": "ipython3",
   "version": "3.9.7"
  }
 },
 "nbformat": 4,
 "nbformat_minor": 5
}
