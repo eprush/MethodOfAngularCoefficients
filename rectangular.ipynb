{
 "cells": [
  {
   "cell_type": "markdown",
   "id": "5c675bef",
   "metadata": {},
   "source": [
    "# Расчет проводимости трубопроводов с помощью МУК"
   ]
  },
  {
   "cell_type": "code",
   "execution_count": 1,
   "id": "40d7cd37",
   "metadata": {},
   "outputs": [],
   "source": [
    "import os\n",
    "import math\n",
    "import numpy as np\n",
    "from graph import Graph #собственный класс для графиков\n",
    "from matplotlib import pyplot as plt"
   ]
  },
  {
   "cell_type": "markdown",
   "id": "30cbb01f",
   "metadata": {},
   "source": [
    "## Прямоугольное сечение"
   ]
  },
  {
   "cell_type": "markdown",
   "id": "df7bde1c",
   "metadata": {},
   "source": [
    "### Угловые коэффициенты"
   ]
  },
  {
   "cell_type": "code",
   "execution_count": 2,
   "id": "bef8a63a",
   "metadata": {},
   "outputs": [],
   "source": [
    "def scalar_prod(v_1, v_2):\n",
    "    v_1 , v_2 = np.array(v_1), np.array(v_2)\n",
    "    return (v_1*v_2).sum()\n",
    "\n",
    "def module(v):\n",
    "    return math.sqrt( scalar_prod(v, v) )\n",
    "\n",
    "def elementary(center_i : list, center_j : list, normal_i : list, normal_j : list, F_j):\n",
    "    #F_j - площадь одной ячейки коллектора.\n",
    "    center_i, center_j = np.array(center_i), np.array(center_j)\n",
    "    \n",
    "    r        = module(center_i - center_j)\n",
    "    n_i, n_j = module(normal_i), module(normal_j)\n",
    "    \n",
    "    cos_1 = abs( scalar_prod( normal_i, center_j - center_i ) ) / (r*n_i)\n",
    "    cos_2 = abs( scalar_prod( normal_j, center_i - center_j ) ) / (r*n_j)\n",
    "    return cos_1*cos_2/(math.pi*r**2)*F_j"
   ]
  },
  {
   "cell_type": "code",
   "execution_count": 3,
   "id": "3fe19812",
   "metadata": {},
   "outputs": [],
   "source": [
    "def local(center_i, centers_2, normal_i, normal_j, F_j):\n",
    "    return sum([ elementary(center_i, center, normal_i, normal_j, F_j) for center in centers_2])\n",
    "\n",
    "def emitter_to_collector(centers_1, centers_2,normal_1, normal_2, F_i, F_j):\n",
    "    #F_i - площадь одной ячейки эмиттера.\n",
    "    return sum( [ local(center, centers_2, normal_1, normal_2, F_j) for center in centers_1 ] ) * F_i"
   ]
  },
  {
   "cell_type": "markdown",
   "id": "8161edd0",
   "metadata": {},
   "source": [
    "### Разбиение"
   ]
  },
  {
   "cell_type": "code",
   "execution_count": 4,
   "id": "650725cb",
   "metadata": {},
   "outputs": [],
   "source": [
    "def euclid(num_1, num_2):\n",
    "    while num_1 != num_2:\n",
    "        if num_1 > num_2:\n",
    "            num_1 -= num_2\n",
    "        else:\n",
    "            num_2 -= num_1\n",
    "    return num_1\n",
    "\n",
    "#ф-ция находит минимальное количество квадратов\n",
    "#с одинаковой площадью, на которое можно разбить\n",
    "#данный прямоугольник\n",
    "def search_squares(a : int, b : int) -> int:\n",
    "    gcd = euclid(a,b) #НОД\n",
    "    return a*b/gcd\n",
    "\n",
    "#ф-ция ищет оптимальное кол-во квадратов \n",
    "#в зависимости от введенного кол-ва\n",
    "def optimal_squares(a, b, num):\n",
    "    min_num = search_squares(a,b)\n",
    "    n       = num//(4*min_num)\n",
    "    return min_num if n == 0 else 4*min_num*n"
   ]
  },
  {
   "cell_type": "code",
   "execution_count": 5,
   "id": "11297afd",
   "metadata": {},
   "outputs": [],
   "source": [
    "#функции разбиения каждой отдельной поверхности на ячейки.\n",
    "#1-входное, 2-выходное сечения.\n",
    "#3-верхняя, 5-нижняя грани.\n",
    "#если смотреть в направлении от 1 к 2, то\n",
    "#3,4,5 и 6 грани пронумерованы по часовой стрелке.\n",
    "def breaking_1(a, b, num, s = 0) -> list:\n",
    "    #a - вдоль x, b - вдоль z, s - вдоль y\n",
    "    num = optimal_squares(a,b,num)\n",
    "    \n",
    "    square_side = math.sqrt(a*b/num)\n",
    "    l_1 = int(a/square_side)\n",
    "    l_2 = int(b/square_side)\n",
    "    res = []\n",
    "    for i in range(l_1):\n",
    "        x = a/(2*l_1) + a/l_1*i\n",
    "        for j in range(l_2):\n",
    "            z = b/(2*l_2) + b/l_2*j\n",
    "            center = [x,0,z]\n",
    "            res.append(center)\n",
    "    return res,num\n",
    "\n",
    "def breaking_2(a, b, num, s) -> list:\n",
    "    res = []\n",
    "    num = optimal_squares(a,b,num)\n",
    "    \n",
    "    square_side = math.sqrt(a*b/num)\n",
    "    l_1 = int(a/square_side)\n",
    "    l_2 = int(b/square_side)\n",
    "    for i in range(l_1):\n",
    "        x = a/(2*l_1) + a/l_1*i\n",
    "        for j in range(l_2):\n",
    "            z = b/(2*l_2) + b/l_2*j\n",
    "            center = [x,s,z]\n",
    "            res.append(center)\n",
    "    return res,num\n",
    "\n",
    "def breaking_3(a, b, num, s) -> list:\n",
    "    res = []\n",
    "    num = optimal_squares(a,s,num)\n",
    "    \n",
    "    square_side = math.sqrt(a*s/num)\n",
    "    l_1 = int(a/square_side)\n",
    "    l_2 = int(s/square_side)\n",
    "    for i in range(l_1):\n",
    "        x = a/(2*l_1) + a/l_1*i\n",
    "        for j in range(l_2):\n",
    "            y = s/(2*l_2) + s/l_2*j\n",
    "            center = [x,y,b]\n",
    "            res.append(center)\n",
    "    return res,num\n",
    "\n",
    "def breaking_4(a, b, num, s) -> list:\n",
    "    res = []\n",
    "    num = optimal_squares(s,b,num)\n",
    "    \n",
    "    square_side = math.sqrt(s*b/num)\n",
    "    l_1 = int(s/square_side)\n",
    "    l_2 = int(b/square_side)\n",
    "    for i in range(l_1):\n",
    "        y = s/(2*l_1) + s/l_1*i\n",
    "        for j in range(l_2):\n",
    "            z = b/(2*l_2) + b/l_2*j\n",
    "            center = [0,y,z]\n",
    "            res.append(center)\n",
    "    return res,num\n",
    "\n",
    "def breaking_5(a, b, num, s) -> list:\n",
    "    res = []\n",
    "    num = optimal_squares(a,s,num)\n",
    "    \n",
    "    square_side = math.sqrt(a*s/num)\n",
    "    l_1 = int(a/square_side)\n",
    "    l_2 = int(s/square_side)\n",
    "    for i in range(l_1):\n",
    "        x = a/(2*l_1) + a/l_1*i\n",
    "        for j in range(l_2):\n",
    "            y = s/(2*l_2) + s/l_2*j\n",
    "            center = [x,y,0]\n",
    "            res.append(center)\n",
    "    return res,num\n",
    "\n",
    "def breaking_6(a, b, num, s) -> list:\n",
    "    res = []\n",
    "    num = optimal_squares(s,b,num)\n",
    "    \n",
    "    square_side = math.sqrt(s*b/num)\n",
    "    l_1 = int(s/square_side)\n",
    "    l_2 = int(b/square_side)\n",
    "    for i in range(l_1):\n",
    "        y = s/(2*l_1) + s/l_1*i\n",
    "        for j in range(l_2):\n",
    "            z = b/(2*l_2) + b/l_2*j\n",
    "            center = [a,y,z]\n",
    "            res.append(center)\n",
    "    return res,num"
   ]
  },
  {
   "cell_type": "code",
   "execution_count": 6,
   "id": "432a5e76",
   "metadata": {},
   "outputs": [
    {
     "data": {
      "text/plain": [
       "([[0.25, 0, 0.25], [0.25, 0, 0.75], [0.75, 0, 0.25], [0.75, 0, 0.75]], 8.0)"
      ]
     },
     "execution_count": 6,
     "metadata": {},
     "output_type": "execute_result"
    }
   ],
   "source": [
    "breaking_1(1,1,10,1)"
   ]
  },
  {
   "cell_type": "code",
   "execution_count": 7,
   "id": "be00481f",
   "metadata": {},
   "outputs": [],
   "source": [
    "#площади \"уникальных\" поверхностей - area_1 == area_2 итд\n",
    "def area_1(a, b, s):\n",
    "    return a*b\n",
    "\n",
    "def area_3(a, b, s):\n",
    "    return a*s\n",
    "\n",
    "def area_4(a, b, s):\n",
    "    return s*b"
   ]
  },
  {
   "cell_type": "markdown",
   "id": "b66c7293",
   "metadata": {},
   "source": [
    "### Проводимость"
   ]
  },
  {
   "cell_type": "code",
   "execution_count": 8,
   "id": "a20ac5e3",
   "metadata": {},
   "outputs": [],
   "source": [
    "class Rectangular:\n",
    "    def __init__(self, a, b, L):\n",
    "        self.a = a\n",
    "        self.b = b\n",
    "        self.L = L\n",
    "        self.normals  = [ [0,1,0], [0,1,0], [0,0,1], [1,0,0], [0,0,1], [1,0,0] ]\n",
    "        self.breaking = [ breaking_1, breaking_2, breaking_3, breaking_4, breaking_5, breaking_6 ]\n",
    "        self.areas    = [ area_1, area_1, area_3, area_4, area_3, area_4 ]\n",
    "        for i in range(6):\n",
    "            self.areas[i] = self.areas[i](a,b,L)\n",
    "        return\n",
    "    \n",
    "    def some_pair(self, i, j, num_1, num_2):\n",
    "        #i - номер эмиттера   от 1 до 6.\n",
    "        #j - номер коллектора от 1 до 6.\n",
    "        #num_1, num_2 - на сколько частей разбить\n",
    "        #эмиттер и коллектор соответсвенно.\n",
    "        i-=1 #это - номер эмиттера   в массивах.\n",
    "        j-=1 #это - номер коллектора в массивах.\n",
    "        \n",
    "        #параметры коллектора:\n",
    "        #num_j - число квадратов, на которое \n",
    "        #удалось разделить коллектор в итоге\n",
    "        collector, num_j = self.breaking[j](self.a,self.b,num_2,self.L)\n",
    "        normal_j= self.normals[j]\n",
    "        cell_j  = self.areas[j]/num_j\n",
    "        \n",
    "        #параметры эмиттера:\n",
    "        #num_i - число квадратов, на которое \n",
    "        #удалось разделить эмиттер в итоге\n",
    "        emitter, num_i = self.breaking[i](self.a,self.b,num_1,self.L)\n",
    "        normal_i= self.normals[i]\n",
    "        area_i  = self.areas[i]\n",
    "        cell_i  = area_i/num_i\n",
    "        return emitter_to_collector(emitter,collector,normal_i,normal_j,cell_i,cell_j)/area_i\n",
    "    \n",
    "    def matrix(self, num_1, num_2):\n",
    "        res  = []    #будущая матрица УК\n",
    "        line = [0]*7 #текущий столбец матрицы\n",
    "        #т.к. УК вида phi_21, phi_31, ..., phi_61\n",
    "        #не используются в дальнейшем\n",
    "        for j in range(1,7):\n",
    "            #благодаря симметрии УК для граней 5 и 6\n",
    "            #в качестве коллекторов можно не считать,\n",
    "            #симметрия учтена при решении системы ур-ний 2.1\n",
    "            res.append(line)\n",
    "            line = []\n",
    "            for i in range(7):\n",
    "                if i:\n",
    "                    if i == j:\n",
    "                        line.append(0)\n",
    "                    else:\n",
    "                        line.append(self.some_pair(i,j,num_1,num_2))\n",
    "                else:\n",
    "                    line = [0]\n",
    "        res.append(line)\n",
    "        #транспонируем, чтобы можно было \n",
    "        #найти phi_ij = matrix[i][j],\n",
    "        #а не  phi_ij = matrix[j][i]\n",
    "        return np.transpose(np.array(res))\n",
    "    \n",
    "    def clausing(self, num_1 = 10, num_2 = 10):\n",
    "        phi = self.matrix(num_1, num_2)\n",
    "        \n",
    "        q_3 = phi[1][3] + 2*phi[4][3]*phi[1][4]/(1-phi[6][4])\n",
    "        q_3/= 1 - phi[5][3] - 2*phi[4][3]*2*phi[3][4]/(1-phi[6][4])\n",
    "        \n",
    "        q_4 = phi[1][4]+2*phi[3][4]*q_3\n",
    "        q_4/= 1 - phi[6][4]\n",
    "        \n",
    "        res = phi[1][2]\n",
    "        res+= 2*phi[3][2]*q_3\n",
    "        res+= 2*phi[4][2]*q_4\n",
    "        return res"
   ]
  },
  {
   "cell_type": "markdown",
   "id": "05c5c7c7",
   "metadata": {},
   "source": [
    "### Тестирование"
   ]
  },
  {
   "cell_type": "code",
   "execution_count": 9,
   "id": "7e0f19bc",
   "metadata": {},
   "outputs": [],
   "source": [
    "#тесты на сами УК\n",
    "def test_1(phi):\n",
    "    #вывод всех пар УК\n",
    "    for i in range(1,len(phi)):\n",
    "        for j in range(1,len(phi[i])):\n",
    "            print(\"phi_\" + str(i)+str(j) + \" =\", phi[i][j])\n",
    "    print(\"\\n\")\n",
    "    return\n",
    "\n",
    "def test_2(phi):\n",
    "    #свойство замкнутости\n",
    "    for i in range(1,len(phi)):\n",
    "        sum = 0\n",
    "        for j in range(1, len(phi[i])):\n",
    "            sum += phi[i][j]\n",
    "        if round(1 - sum,5) != 0:\n",
    "                print(\"Свойство замкнутости не выполнено для i =\", i)\n",
    "    print(\"Проверка на замкнутость закончена \\n\")\n",
    "    return\n",
    "\n",
    "def test_3(t, num_1 = 10, num_2 = 10):\n",
    "    #свойство взаимности\n",
    "    phi = t.matrix(num_1, num_2)\n",
    "    for i in range(1, len(phi)):\n",
    "        for j in range(1, len(phi[i])):\n",
    "            if round(phi[i][j] * t.areas[i-1],5) != round(phi[j][i] * t.areas[j-1],5):\n",
    "                print(\"Свойство взаимности не выполнено для i =\", i, \"и j =\", j)\n",
    "    print(\"Проверка на взаимность закончена \\n\")   \n",
    "    return"
   ]
  },
  {
   "cell_type": "code",
   "execution_count": 10,
   "id": "fbf48d63",
   "metadata": {},
   "outputs": [],
   "source": [
    "tube_1, tube_2 = Rectangular(1,1,1), Rectangular(1,5,1)\n",
    "phi_1, phi_2 = tube_1.matrix(100,100), tube_2.matrix(100,100)"
   ]
  },
  {
   "cell_type": "code",
   "execution_count": 11,
   "id": "cade3bce",
   "metadata": {},
   "outputs": [
    {
     "name": "stdout",
     "output_type": "stream",
     "text": [
      "phi для a = 1, b = 1, L = 1:\n",
      "phi_11 = 0.0\n",
      "phi_12 = 0.20042981274394034\n",
      "phi_13 = 0.21343962958951387\n",
      "phi_14 = 0.21343962958951387\n",
      "phi_15 = 0.2134396295895138\n",
      "phi_16 = 0.21343962958951396\n",
      "phi_21 = 0.20042981274394034\n",
      "phi_22 = 0.0\n",
      "phi_23 = 0.21343962958951396\n",
      "phi_24 = 0.213439629589514\n",
      "phi_25 = 0.2134396295895139\n",
      "phi_26 = 0.21343962958951404\n",
      "phi_31 = 0.2134396295895139\n",
      "phi_32 = 0.21343962958951396\n",
      "phi_33 = 0.0\n",
      "phi_34 = 0.21343962958951399\n",
      "phi_35 = 0.20042981274394034\n",
      "phi_36 = 0.2134396295895141\n",
      "phi_41 = 0.21343962958951387\n",
      "phi_42 = 0.21343962958951396\n",
      "phi_43 = 0.21343962958951385\n",
      "phi_44 = 0.0\n",
      "phi_45 = 0.21343962958951376\n",
      "phi_46 = 0.20042981274394034\n",
      "phi_51 = 0.2134396295895138\n",
      "phi_52 = 0.21343962958951387\n",
      "phi_53 = 0.20042981274394034\n",
      "phi_54 = 0.2134396295895139\n",
      "phi_55 = 0.0\n",
      "phi_56 = 0.21343962958951399\n",
      "phi_61 = 0.213439629589514\n",
      "phi_62 = 0.21343962958951404\n",
      "phi_63 = 0.21343962958951396\n",
      "phi_64 = 0.20042981274394034\n",
      "phi_65 = 0.2134396295895139\n",
      "phi_66 = 0.0\n",
      "\n",
      "\n",
      "phi для a = 1, b = 5, L = 1:\n",
      "phi_11 = 0.0\n",
      "phi_12 = 0.2808739944425287\n",
      "phi_13 = 0.04443652092555671\n",
      "phi_14 = 0.231963370493205\n",
      "phi_15 = 0.044436520925556756\n",
      "phi_16 = 0.23196337049320492\n",
      "phi_21 = 0.2808739944425287\n",
      "phi_22 = 0.0\n",
      "phi_23 = 0.04443652092555671\n",
      "phi_24 = 0.231963370493205\n",
      "phi_25 = 0.04443652092555674\n",
      "phi_26 = 0.23196337049320487\n",
      "phi_31 = 0.22218260462778353\n",
      "phi_32 = 0.22218260462778353\n",
      "phi_33 = 0.0\n",
      "phi_34 = 0.2221826046277836\n",
      "phi_35 = 0.0124071196756392\n",
      "phi_36 = 0.22218260462778347\n",
      "phi_41 = 0.231963370493205\n",
      "phi_42 = 0.23196337049320492\n",
      "phi_43 = 0.0444365209255567\n",
      "phi_44 = 0.0\n",
      "phi_45 = 0.044436520925556756\n",
      "phi_46 = 0.2808739944425287\n",
      "phi_51 = 0.22218260462778394\n",
      "phi_52 = 0.2221826046277839\n",
      "phi_53 = 0.0124071196756392\n",
      "phi_54 = 0.22218260462778386\n",
      "phi_55 = 0.0\n",
      "phi_56 = 0.2221826046277839\n",
      "phi_61 = 0.231963370493205\n",
      "phi_62 = 0.23196337049320487\n",
      "phi_63 = 0.04443652092555671\n",
      "phi_64 = 0.2808739944425287\n",
      "phi_65 = 0.044436520925556756\n",
      "phi_66 = 0.0\n",
      "\n",
      "\n"
     ]
    }
   ],
   "source": [
    "print(\"phi для a = 1, b = 1, L = 1:\")\n",
    "test_1(phi_1)\n",
    "print(\"phi для a = 1, b = 5, L = 1:\")\n",
    "test_1(phi_2)"
   ]
  },
  {
   "cell_type": "code",
   "execution_count": 12,
   "id": "0ad6bf3f",
   "metadata": {},
   "outputs": [
    {
     "name": "stdout",
     "output_type": "stream",
     "text": [
      "Свойство замкнутости не выполнено для i = 1\n",
      "Свойство замкнутости не выполнено для i = 2\n",
      "Свойство замкнутости не выполнено для i = 3\n",
      "Свойство замкнутости не выполнено для i = 4\n",
      "Свойство замкнутости не выполнено для i = 5\n",
      "Свойство замкнутости не выполнено для i = 6\n",
      "Проверка на замкнутость закончена \n",
      "\n",
      "Свойство замкнутости не выполнено для i = 1\n",
      "Свойство замкнутости не выполнено для i = 2\n",
      "Свойство замкнутости не выполнено для i = 3\n",
      "Свойство замкнутости не выполнено для i = 4\n",
      "Свойство замкнутости не выполнено для i = 5\n",
      "Свойство замкнутости не выполнено для i = 6\n",
      "Проверка на замкнутость закончена \n",
      "\n"
     ]
    }
   ],
   "source": [
    "test_2(phi_1)\n",
    "test_2(phi_2)"
   ]
  },
  {
   "cell_type": "code",
   "execution_count": 13,
   "id": "298d37c2",
   "metadata": {},
   "outputs": [
    {
     "name": "stdout",
     "output_type": "stream",
     "text": [
      "Проверка на взаимность закончена \n",
      "\n",
      "Проверка на взаимность закончена \n",
      "\n"
     ]
    }
   ],
   "source": [
    "test_3(tube_1)\n",
    "test_3(tube_2)"
   ]
  },
  {
   "cell_type": "code",
   "execution_count": 14,
   "id": "560c4b44",
   "metadata": {},
   "outputs": [],
   "source": [
    "#тесты  на коэффициент Клаузинга\n",
    "def test_4(t, num_1 = 10, num_2 = 10):\n",
    "    #меньше ли 1\n",
    "    print(\"Коэффициент Клаузинга меньше единицы\", t.clausing(num_1,num_2) <= 1)\n",
    "    print(\"\\n\")\n",
    "    return\n",
    "\n",
    "def test_5(t, num_1 = 10, num_2 = 10):\n",
    "    #больше ли 0\n",
    "    print(\"Коэффициент Клаузинга больше нуля\", t.clausing(num_1,num_2) >= 0)\n",
    "    print(\"\\n\")\n",
    "    return"
   ]
  },
  {
   "cell_type": "code",
   "execution_count": 15,
   "id": "7a70961f",
   "metadata": {},
   "outputs": [
    {
     "name": "stdout",
     "output_type": "stream",
     "text": [
      "Коэффициент Клаузинга меньше единицы True\n",
      "\n",
      "\n",
      "Коэффициент Клаузинга меньше единицы False\n",
      "\n",
      "\n"
     ]
    }
   ],
   "source": [
    "test_4(tube_1)\n",
    "test_4(tube_2)"
   ]
  },
  {
   "cell_type": "code",
   "execution_count": 16,
   "id": "e0250c21",
   "metadata": {},
   "outputs": [
    {
     "name": "stdout",
     "output_type": "stream",
     "text": [
      "Коэффициент Клаузинга больше нуля True\n",
      "\n",
      "\n",
      "Коэффициент Клаузинга больше нуля True\n",
      "\n",
      "\n"
     ]
    }
   ],
   "source": [
    "test_5(tube_1)\n",
    "test_5(tube_2)"
   ]
  },
  {
   "cell_type": "code",
   "execution_count": 17,
   "id": "9aa84f24",
   "metadata": {},
   "outputs": [],
   "source": [
    "#тесты элементарного УК\n",
    "def angles(num = 5):\n",
    "    #зависимость элементарного УК от угла\n",
    "    c_i = [1/2, 0, 1/2]\n",
    "    c_j = [1/2, 1, 1/2]\n",
    "    n_i = [0,1,0]\n",
    "    angle_ar = np.linspace(0,1,num)*math.pi\n",
    "    \n",
    "    x, y = np.sin(angle_ar), np.cos(angle_ar)\n",
    "    Y    = []\n",
    "    for i in range(num):\n",
    "        n_j = [x[i], y[i], 0]\n",
    "        X   = angle_ar/math.pi*180\n",
    "        Y.append(elementary(c_i,c_j,n_i,n_j,0.05))\n",
    "    \n",
    "    graph = Graph()\n",
    "    graph.customize_graph(\"Зависимость  элем-го УК от угла\", \"Угол в градусах\")\n",
    "    plt.plot(X,Y, marker=\"o\")\n",
    "    graph.save(\"angle.png\", \"tests\")\n",
    "    return\n",
    "\n",
    "def distance(num = 5):\n",
    "    #зависимость  элем-го УК от расстояния\n",
    "    c_i  = [1/2, 0, 1/2]\n",
    "    n_i  = [0,1,0]\n",
    "    n_j  = [np.sin(math.pi/4), np.cos(math.pi/4),0]\n",
    "    dist = np.linspace(0,10,num)\n",
    "    Y    = []\n",
    "    for d in dist:\n",
    "        c_j = c_j = [1/2, d, 1/2]\n",
    "        Y.append(elementary(c_i,c_j,n_i,n_j,0.05))\n",
    "        \n",
    "    graph = Graph()\n",
    "    graph.customize_graph(\"Зависимость  элем-го УК от расстояния\", \"Расстояние\")\n",
    "    plt.plot(dist,Y, marker=\"o\")\n",
    "    graph.save(\"distance.png\", \"tests\")\n",
    "    return"
   ]
  },
  {
   "cell_type": "code",
   "execution_count": 18,
   "id": "b0ccbba6",
   "metadata": {},
   "outputs": [
    {
     "data": {
      "image/png": "[encoded data removed]",
      "text/plain": [
       "<Figure size 864x648 with 1 Axes>"
      ]
     },
     "metadata": {
      "needs_background": "light"
     },
     "output_type": "display_data"
    }
   ],
   "source": [
    "angles(50)"
   ]
  },
  {
   "cell_type": "code",
   "execution_count": 19,
   "id": "b2c1dc4e",
   "metadata": {},
   "outputs": [
    {
     "name": "stderr",
     "output_type": "stream",
     "text": [
      "C:\\Users\\ASUS\\AppData\\Local\\Temp/ipykernel_9652/1963656057.py:15: RuntimeWarning: invalid value encountered in double_scalars\n",
      "  cos_1 = abs( scalar_prod( normal_i, center_j - center_i ) ) / (r*n_i)\n",
      "C:\\Users\\ASUS\\AppData\\Local\\Temp/ipykernel_9652/1963656057.py:16: RuntimeWarning: invalid value encountered in double_scalars\n",
      "  cos_2 = abs( scalar_prod( normal_j, center_i - center_j ) ) / (r*n_j)\n"
     ]
    },
    {
     "data": {
      "image/png": "[encoded data removed]",
      "text/plain": [
       "<Figure size 864x648 with 1 Axes>"
      ]
     },
     "metadata": {
      "needs_background": "light"
     },
     "output_type": "display_data"
    }
   ],
   "source": [
    "distance(20)"
   ]
  },
  {
   "cell_type": "markdown",
   "id": "c9eefcea",
   "metadata": {},
   "source": [
    "### Графики"
   ]
  },
  {
   "cell_type": "code",
   "execution_count": 20,
   "id": "9a0ad53d",
   "metadata": {},
   "outputs": [
    {
     "name": "stdout",
     "output_type": "stream",
     "text": [
      "0.2115120384144278\n",
      "0.11145552920185013\n",
      "0.5475116115172081\n",
      "0.07700794508983652\n",
      "0.03631827778221856\n",
      "0.02550856058932384\n",
      "-0.3011673576007514\n",
      "-0.2343949758555956\n",
      "-0.19188261795872358\n",
      "-0.16243919782604022\n"
     ]
    }
   ],
   "source": [
    "for i in range(1,11):\n",
    "    print(Rectangular(1,1,i).clausing(50,50))"
   ]
  },
  {
   "cell_type": "code",
   "execution_count": 21,
   "id": "0e0155e5",
   "metadata": {},
   "outputs": [],
   "source": [
    "#ф-ция строит кривую на графике\n",
    "#и сохраняет его\n",
    "def lines(x, k, filename = \"\", dirname = \"\"):\n",
    "    plt.scatter(x, k, marker=\"o\")\n",
    "    plt.plot(x, k)\n",
    "    \n",
    "    plt.legend()\n",
    "    Graph().save(filename, dirname)\n",
    "    return\n",
    "\n",
    "#ф-ция строит, называет,\n",
    "#выводит и сохраняет 2 графика\n",
    "#для разных прямоугольных сечений\n",
    "def draw(num_1 = 10, num_2 = 10):\n",
    "    x   = [i for i in range(1,11)]\n",
    "    k_1 = [Rectangular(1,1,element).clausing(num_1, num_2) for element in x]\n",
    "    \n",
    "    graph = Graph()\n",
    "    graph.customize_graph(\"Проводимость в прямоугольном сечении при b = 1\", \"L\")\n",
    "    lines(x, k_1, \"b1.png\", \"rectangular\")\n",
    "    plt.show()\n",
    "    \n",
    "    k_2 = [Rectangular(1,5,element).clausing(num_1, num_2) for element in x]\n",
    "    graph.customize_graph(\"Проводимость в прямоугольном сечении при b = 5\", \"L\")\n",
    "    lines(x, k_2, \"b5.png\", \"rectangular\")\n",
    "    plt.show()\n",
    "    return"
   ]
  },
  {
   "cell_type": "code",
   "execution_count": 22,
   "id": "11e9dfda",
   "metadata": {},
   "outputs": [
    {
     "name": "stderr",
     "output_type": "stream",
     "text": [
      "No handles with labels found to put in legend.\n"
     ]
    },
    {
     "data": {
      "image/png": "[encoded data removed]",
      "text/plain": [
       "<Figure size 864x648 with 1 Axes>"
      ]
     },
     "metadata": {
      "needs_background": "light"
     },
     "output_type": "display_data"
    },
    {
     "name": "stderr",
     "output_type": "stream",
     "text": [
      "No handles with labels found to put in legend.\n"
     ]
    },
    {
     "data": {
      "image/png": "[encoded data removed]",
      "text/plain": [
       "<Figure size 864x648 with 1 Axes>"
      ]
     },
     "metadata": {
      "needs_background": "light"
     },
     "output_type": "display_data"
    }
   ],
   "source": [
    "draw(100,100)"
   ]
  }
 ],
 "metadata": {
  "kernelspec": {
   "display_name": "Python 3 (ipykernel)",
   "language": "python",
   "name": "python3"
  },
  "language_info": {
   "codemirror_mode": {
    "name": "ipython",
    "version": 3
   },
   "file_extension": ".py",
   "mimetype": "text/x-python",
   "name": "python",
   "nbconvert_exporter": "python",
   "pygments_lexer": "ipython3",
   "version": "3.9.7"
  }
 },
 "nbformat": 4,
 "nbformat_minor": 5
}
