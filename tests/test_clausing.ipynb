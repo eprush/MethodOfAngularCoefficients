{
 "cells": [
  {
   "cell_type": "code",
   "execution_count": 1,
   "id": "90f97315",
   "metadata": {},
   "outputs": [],
   "source": [
    "import os\n",
    "os.chdir(\"..\")\n",
    "\n",
    "from rectangular.rectangular import RectangleSeparator\n",
    "from tube import Tube"
   ]
  },
  {
   "cell_type": "code",
   "execution_count": 2,
   "id": "9a8a4fae",
   "metadata": {},
   "outputs": [],
   "source": [
    "def test_1(t, sle):\n",
    "    #меньше ли 1.\n",
    "    print(\"Коэффициент Клаузинга меньше единицы\", t.calc_clausing(sle) <= 1)\n",
    "    print(\"\\n\")\n",
    "    return\n",
    "\n",
    "def test_0(t, sle):\n",
    "    #больше ли 0.\n",
    "    print(\"Коэффициент Клаузинга больше нуля\", t.clausing(sle) >= 0)\n",
    "    print(\"\\n\")\n",
    "    return"
   ]
  },
  {
   "cell_type": "code",
   "execution_count": 3,
   "id": "78d91b84",
   "metadata": {},
   "outputs": [
    {
     "ename": "NameError",
     "evalue": "name 't_1' is not defined",
     "output_type": "error",
     "traceback": [
      "\u001b[1;31m---------------------------------------------------------------------------\u001b[0m",
      "\u001b[1;31mNameError\u001b[0m                                 Traceback (most recent call last)",
      "\u001b[1;32m~\\AppData\\Local\\Temp/ipykernel_22336/4170954407.py\u001b[0m in \u001b[0;36m<module>\u001b[1;34m\u001b[0m\n\u001b[1;32m----> 1\u001b[1;33m \u001b[0mtest_1\u001b[0m\u001b[1;33m(\u001b[0m\u001b[0mt_1\u001b[0m\u001b[1;33m,\u001b[0m \u001b[0msle_1\u001b[0m\u001b[1;33m)\u001b[0m\u001b[1;33m\u001b[0m\u001b[1;33m\u001b[0m\u001b[0m\n\u001b[0m\u001b[0;32m      2\u001b[0m \u001b[0mtest_1\u001b[0m\u001b[1;33m(\u001b[0m\u001b[0mt_2\u001b[0m\u001b[1;33m,\u001b[0m \u001b[0msle_2\u001b[0m\u001b[1;33m)\u001b[0m\u001b[1;33m\u001b[0m\u001b[1;33m\u001b[0m\u001b[0m\n",
      "\u001b[1;31mNameError\u001b[0m: name 't_1' is not defined"
     ]
    }
   ],
   "source": [
    "test_1(t_1, sle_1)\n",
    "test_1(t_2, sle_2)"
   ]
  },
  {
   "cell_type": "code",
   "execution_count": null,
   "id": "2572c28d",
   "metadata": {},
   "outputs": [],
   "source": [
    "test_0(t_1, sle_1)\n",
    "test_0(t_2, sle_2)"
   ]
  }
 ],
 "metadata": {
  "kernelspec": {
   "display_name": "Python 3 (ipykernel)",
   "language": "python",
   "name": "python3"
  },
  "language_info": {
   "codemirror_mode": {
    "name": "ipython",
    "version": 3
   },
   "file_extension": ".py",
   "mimetype": "text/x-python",
   "name": "python",
   "nbconvert_exporter": "python",
   "pygments_lexer": "ipython3",
   "version": "3.9.7"
  }
 },
 "nbformat": 4,
 "nbformat_minor": 5
}
