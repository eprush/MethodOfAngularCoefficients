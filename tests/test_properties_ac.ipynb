{
 "cells": [
  {
   "cell_type": "markdown",
   "id": "5c675bef",
   "metadata": {},
   "source": [
    "# Расчет проводимости трубопроводов с помощью МУК"
   ]
  },
  {
   "cell_type": "code",
   "execution_count": 1,
   "id": "40d7cd37",
   "metadata": {},
   "outputs": [],
   "source": [
    "import os\n",
    "os.chdir(\"..\")\n",
    "\n",
    "from rectangular.rectangular import RectangleSeparator\n",
    "from graph       import save_graph, customize_graph\n",
    "from matplotlib  import pyplot as plt\n",
    "from tube        import Tube\n",
    "import numpy  as np\n",
    "import pandas as pd"
   ]
  },
  {
   "cell_type": "markdown",
   "id": "05c5c7c7",
   "metadata": {},
   "source": [
    "## Проверка УК"
   ]
  },
  {
   "cell_type": "code",
   "execution_count": 2,
   "id": "7e0f19bc",
   "metadata": {},
   "outputs": [],
   "source": [
    "def print_tables(t, phi):\n",
    "    #заполнение по столбцам\n",
    "    #столбец - номер эмиттера\n",
    "    #строчка - номер коллектор (внутри соответствующей грани)\n",
    "    for side_1 in range(6):\n",
    "        for side_2 in range(6):\n",
    "            my_table = pd.DataFrame()\n",
    "            for emitter_i in range(t.separator.find_num_cells(side_1)):\n",
    "                my_table[str(emitter_i)] = phi[side_1][emitter_i][side_2]\n",
    "            print(f\"From {side_1}-th to {side_2}-th\")\n",
    "            display(my_table)\n",
    "    return\n",
    "\n",
    "def create_tube(a,b,L, cell):\n",
    "    return Tube(RectangleSeparator(a,b,L,cell))"
   ]
  },
  {
   "cell_type": "code",
   "execution_count": 3,
   "id": "fbf48d63",
   "metadata": {},
   "outputs": [],
   "source": [
    "tube_1, tube_2 = create_tube(1,1,1,0.01), create_tube(1,5,1,0.01)"
   ]
  },
  {
   "cell_type": "code",
   "execution_count": 4,
   "id": "cade3bce",
   "metadata": {
    "scrolled": true
   },
   "outputs": [],
   "source": [
    "#phi_1 = tube_1.calc_angular_coeffs()"
   ]
  },
  {
   "cell_type": "code",
   "execution_count": 5,
   "id": "363c404a",
   "metadata": {},
   "outputs": [],
   "source": [
    "#phi_2 = tube_2.calc_angular_coeffs()"
   ]
  },
  {
   "cell_type": "markdown",
   "id": "e6085fcd",
   "metadata": {},
   "source": [
    "### Проверка замкнутости"
   ]
  },
  {
   "cell_type": "code",
   "execution_count": 6,
   "id": "f79d4a56",
   "metadata": {},
   "outputs": [],
   "source": [
    "def check_isolation(find_num, phi):\n",
    "    sums = np.array([])\n",
    "    for side in range(6):\n",
    "        for emitter_i in range(find_num(side)):\n",
    "            sums = np.append(sums, np.sum(phi[side][emitter_i]))\n",
    "    return max(sums), np.mean(sums)\n",
    "\n",
    "def create_isolation_graph(X : list):\n",
    "    MAX_1, MAX_2 = [0]*len(X), [0]*len(X)\n",
    "    MEAN_1,MEAN_2 = [0]*len(X), [0]*len(X)\n",
    "    for i in range(len(X)):\n",
    "        t_1, t_2 = create_tube(1,1,1,X[i]), create_tube(1,5,1,X[i])\n",
    "        coeffs_1, coeffs_2 = t_1.calc_angular_coeffs(), t_2.calc_angular_coeffs()\n",
    "        MAX_1[i], MEAN_1[i] = check_isolation(t_1.separator.find_num_cells, coeffs_1)\n",
    "        MAX_2[i], MEAN_2[i] = check_isolation(t_2.separator.find_num_cells, coeffs_2)\n",
    "    \n",
    "    dirname = os.getcwd() #\"MethodOfAngularCoefficients\"\n",
    "    folder_path = os.path.join(dirname, \"tests\", \"Media\")\n",
    "        \n",
    "    plt.plot(X,MAX_1)\n",
    "    customize_graph(\"Зависимость свойства замкнутости\", \"Размер ячейки\", \"Макс значение\")\n",
    "    save_graph(\"max_isolation1.png\", folder_path)\n",
    "    plt.show()\n",
    "    \n",
    "    plt.plot(X,MAX_2)\n",
    "    customize_graph(\"Зависимость свойства замкнутости\", \"Размер ячейки\", \"Макс значение\")\n",
    "    save_graph(\"max_isolation2.png\", folder_path)\n",
    "    plt.show()\n",
    "    \n",
    "    plt.plot(X,MEAN_1)\n",
    "    customize_graph(\"Зависимость свойства замкнутости\", \"Размер ячейки\", \"Среднее значение\")\n",
    "    save_graph(\"mean_isolation1.png\", folder_path)\n",
    "    plt.show()\n",
    "    \n",
    "    plt.plot(X,MEAN_2)\n",
    "    customize_graph(\"Зависимость свойства замкнутости\", \"Размер ячейки\", \"Среднее значение\")\n",
    "    save_graph(\"mean_isolation2.png\", folder_path)\n",
    "    plt.show()\n",
    "    return"
   ]
  },
  {
   "cell_type": "code",
   "execution_count": 7,
   "id": "9e971687",
   "metadata": {},
   "outputs": [
    {
     "name": "stderr",
     "output_type": "stream",
     "text": [
      "C:\\Users\\ASUS\\anaconda3\\lib\\site-packages\\numpy\\core\\fromnumeric.py:87: VisibleDeprecationWarning: Creating an ndarray from ragged nested sequences (which is a list-or-tuple of lists-or-tuples-or ndarrays with different lengths or shapes) is deprecated. If you meant to do this, you must specify 'dtype=object' when creating the ndarray.\n",
      "  return ufunc.reduce(obj, axis, dtype, out, **passkwargs)\n"
     ]
    },
    {
     "ename": "KeyboardInterrupt",
     "evalue": "",
     "output_type": "error",
     "traceback": [
      "\u001b[1;31m---------------------------------------------------------------------------\u001b[0m",
      "\u001b[1;31mKeyboardInterrupt\u001b[0m                         Traceback (most recent call last)",
      "\u001b[1;32m~\\AppData\\Local\\Temp/ipykernel_1936/1912916754.py\u001b[0m in \u001b[0;36m<module>\u001b[1;34m\u001b[0m\n\u001b[1;32m----> 1\u001b[1;33m \u001b[0mcreate_isolation_graph\u001b[0m\u001b[1;33m(\u001b[0m\u001b[1;33m[\u001b[0m\u001b[1;36m0.25\u001b[0m\u001b[1;33m,\u001b[0m \u001b[1;36m0.04\u001b[0m\u001b[1;33m,\u001b[0m \u001b[1;36m0.01\u001b[0m\u001b[1;33m,\u001b[0m \u001b[1;36m0.00078125\u001b[0m\u001b[1;33m,\u001b[0m \u001b[1;36m0.0044444444\u001b[0m\u001b[1;33m,\u001b[0m \u001b[1;36m0.0025\u001b[0m\u001b[1;33m]\u001b[0m\u001b[1;33m)\u001b[0m\u001b[1;33m\u001b[0m\u001b[1;33m\u001b[0m\u001b[0m\n\u001b[0m",
      "\u001b[1;32m~\\AppData\\Local\\Temp/ipykernel_1936/785708248.py\u001b[0m in \u001b[0;36mcreate_isolation_graph\u001b[1;34m(X)\u001b[0m\n\u001b[0;32m     11\u001b[0m     \u001b[1;32mfor\u001b[0m \u001b[0mi\u001b[0m \u001b[1;32min\u001b[0m \u001b[0mrange\u001b[0m\u001b[1;33m(\u001b[0m\u001b[0mlen\u001b[0m\u001b[1;33m(\u001b[0m\u001b[0mX\u001b[0m\u001b[1;33m)\u001b[0m\u001b[1;33m)\u001b[0m\u001b[1;33m:\u001b[0m\u001b[1;33m\u001b[0m\u001b[1;33m\u001b[0m\u001b[0m\n\u001b[0;32m     12\u001b[0m         \u001b[0mt_1\u001b[0m\u001b[1;33m,\u001b[0m \u001b[0mt_2\u001b[0m \u001b[1;33m=\u001b[0m \u001b[0mcreate_tube\u001b[0m\u001b[1;33m(\u001b[0m\u001b[1;36m1\u001b[0m\u001b[1;33m,\u001b[0m\u001b[1;36m1\u001b[0m\u001b[1;33m,\u001b[0m\u001b[1;36m1\u001b[0m\u001b[1;33m,\u001b[0m\u001b[0mX\u001b[0m\u001b[1;33m[\u001b[0m\u001b[0mi\u001b[0m\u001b[1;33m]\u001b[0m\u001b[1;33m)\u001b[0m\u001b[1;33m,\u001b[0m \u001b[0mcreate_tube\u001b[0m\u001b[1;33m(\u001b[0m\u001b[1;36m1\u001b[0m\u001b[1;33m,\u001b[0m\u001b[1;36m5\u001b[0m\u001b[1;33m,\u001b[0m\u001b[1;36m1\u001b[0m\u001b[1;33m,\u001b[0m\u001b[0mX\u001b[0m\u001b[1;33m[\u001b[0m\u001b[0mi\u001b[0m\u001b[1;33m]\u001b[0m\u001b[1;33m)\u001b[0m\u001b[1;33m\u001b[0m\u001b[1;33m\u001b[0m\u001b[0m\n\u001b[1;32m---> 13\u001b[1;33m         \u001b[0mcoeffs_1\u001b[0m\u001b[1;33m,\u001b[0m \u001b[0mcoeffs_2\u001b[0m \u001b[1;33m=\u001b[0m \u001b[0mt_1\u001b[0m\u001b[1;33m.\u001b[0m\u001b[0mcalc_angular_coeffs\u001b[0m\u001b[1;33m(\u001b[0m\u001b[1;33m)\u001b[0m\u001b[1;33m,\u001b[0m \u001b[0mt_2\u001b[0m\u001b[1;33m.\u001b[0m\u001b[0mcalc_angular_coeffs\u001b[0m\u001b[1;33m(\u001b[0m\u001b[1;33m)\u001b[0m\u001b[1;33m\u001b[0m\u001b[1;33m\u001b[0m\u001b[0m\n\u001b[0m\u001b[0;32m     14\u001b[0m         \u001b[0mMAX_1\u001b[0m\u001b[1;33m[\u001b[0m\u001b[0mi\u001b[0m\u001b[1;33m]\u001b[0m\u001b[1;33m,\u001b[0m \u001b[0mMEAN_1\u001b[0m\u001b[1;33m[\u001b[0m\u001b[0mi\u001b[0m\u001b[1;33m]\u001b[0m \u001b[1;33m=\u001b[0m \u001b[0mcheck_isolation\u001b[0m\u001b[1;33m(\u001b[0m\u001b[0mt_1\u001b[0m\u001b[1;33m.\u001b[0m\u001b[0mseparator\u001b[0m\u001b[1;33m.\u001b[0m\u001b[0mfind_num_cells\u001b[0m\u001b[1;33m,\u001b[0m \u001b[0mcoeffs_1\u001b[0m\u001b[1;33m)\u001b[0m\u001b[1;33m\u001b[0m\u001b[1;33m\u001b[0m\u001b[0m\n\u001b[0;32m     15\u001b[0m         \u001b[0mMAX_2\u001b[0m\u001b[1;33m[\u001b[0m\u001b[0mi\u001b[0m\u001b[1;33m]\u001b[0m\u001b[1;33m,\u001b[0m \u001b[0mMEAN_2\u001b[0m\u001b[1;33m[\u001b[0m\u001b[0mi\u001b[0m\u001b[1;33m]\u001b[0m \u001b[1;33m=\u001b[0m \u001b[0mcheck_isolation\u001b[0m\u001b[1;33m(\u001b[0m\u001b[0mt_2\u001b[0m\u001b[1;33m.\u001b[0m\u001b[0mseparator\u001b[0m\u001b[1;33m.\u001b[0m\u001b[0mfind_num_cells\u001b[0m\u001b[1;33m,\u001b[0m \u001b[0mcoeffs_2\u001b[0m\u001b[1;33m)\u001b[0m\u001b[1;33m\u001b[0m\u001b[1;33m\u001b[0m\u001b[0m\n",
      "\u001b[1;32m~\\MethodOfAngularCoefficients\\tube.py\u001b[0m in \u001b[0;36mcalc_angular_coeffs\u001b[1;34m(self)\u001b[0m\n\u001b[0;32m     38\u001b[0m                                            sep.cell) for collector in sep.breaks[side]]\n\u001b[0;32m     39\u001b[0m \u001b[1;33m\u001b[0m\u001b[0m\n\u001b[1;32m---> 40\u001b[1;33m                 \u001b[0mto_input_side\u001b[0m \u001b[1;33m=\u001b[0m \u001b[1;33m[\u001b[0m\u001b[0mcalc_for_each_collector\u001b[0m\u001b[1;33m(\u001b[0m\u001b[0minput_side\u001b[0m\u001b[1;33m)\u001b[0m \u001b[1;32mfor\u001b[0m \u001b[0minput_side\u001b[0m \u001b[1;32min\u001b[0m \u001b[0mrange\u001b[0m\u001b[1;33m(\u001b[0m\u001b[0msep\u001b[0m\u001b[1;33m.\u001b[0m\u001b[0mSIDES\u001b[0m\u001b[1;33m)\u001b[0m\u001b[1;33m]\u001b[0m\u001b[1;33m\u001b[0m\u001b[1;33m\u001b[0m\u001b[0m\n\u001b[0m\u001b[0;32m     41\u001b[0m                 \u001b[0mfrom_emitter\u001b[0m\u001b[1;33m.\u001b[0m\u001b[0mappend\u001b[0m\u001b[1;33m(\u001b[0m\u001b[0mto_input_side\u001b[0m\u001b[1;33m)\u001b[0m\u001b[1;33m\u001b[0m\u001b[1;33m\u001b[0m\u001b[0m\n\u001b[0;32m     42\u001b[0m             \u001b[0mfrom_output_side\u001b[0m\u001b[1;33m.\u001b[0m\u001b[0mappend\u001b[0m\u001b[1;33m(\u001b[0m\u001b[0mfrom_emitter\u001b[0m\u001b[1;33m)\u001b[0m\u001b[1;33m\u001b[0m\u001b[1;33m\u001b[0m\u001b[0m\n",
      "\u001b[1;32m~\\MethodOfAngularCoefficients\\tube.py\u001b[0m in \u001b[0;36m<listcomp>\u001b[1;34m(.0)\u001b[0m\n\u001b[0;32m     38\u001b[0m                                            sep.cell) for collector in sep.breaks[side]]\n\u001b[0;32m     39\u001b[0m \u001b[1;33m\u001b[0m\u001b[0m\n\u001b[1;32m---> 40\u001b[1;33m                 \u001b[0mto_input_side\u001b[0m \u001b[1;33m=\u001b[0m \u001b[1;33m[\u001b[0m\u001b[0mcalc_for_each_collector\u001b[0m\u001b[1;33m(\u001b[0m\u001b[0minput_side\u001b[0m\u001b[1;33m)\u001b[0m \u001b[1;32mfor\u001b[0m \u001b[0minput_side\u001b[0m \u001b[1;32min\u001b[0m \u001b[0mrange\u001b[0m\u001b[1;33m(\u001b[0m\u001b[0msep\u001b[0m\u001b[1;33m.\u001b[0m\u001b[0mSIDES\u001b[0m\u001b[1;33m)\u001b[0m\u001b[1;33m]\u001b[0m\u001b[1;33m\u001b[0m\u001b[1;33m\u001b[0m\u001b[0m\n\u001b[0m\u001b[0;32m     41\u001b[0m                 \u001b[0mfrom_emitter\u001b[0m\u001b[1;33m.\u001b[0m\u001b[0mappend\u001b[0m\u001b[1;33m(\u001b[0m\u001b[0mto_input_side\u001b[0m\u001b[1;33m)\u001b[0m\u001b[1;33m\u001b[0m\u001b[1;33m\u001b[0m\u001b[0m\n\u001b[0;32m     42\u001b[0m             \u001b[0mfrom_output_side\u001b[0m\u001b[1;33m.\u001b[0m\u001b[0mappend\u001b[0m\u001b[1;33m(\u001b[0m\u001b[0mfrom_emitter\u001b[0m\u001b[1;33m)\u001b[0m\u001b[1;33m\u001b[0m\u001b[1;33m\u001b[0m\u001b[0m\n",
      "\u001b[1;32m~\\MethodOfAngularCoefficients\\tube.py\u001b[0m in \u001b[0;36mcalc_for_each_collector\u001b[1;34m(side)\u001b[0m\n\u001b[0;32m     34\u001b[0m                         \u001b[1;31m# cells on the same side have angular coeffs equal to 0\u001b[0m\u001b[1;33m\u001b[0m\u001b[1;33m\u001b[0m\u001b[0m\n\u001b[0;32m     35\u001b[0m                         \u001b[1;32mreturn\u001b[0m \u001b[1;33m[\u001b[0m\u001b[1;36m0\u001b[0m\u001b[1;33m]\u001b[0m \u001b[1;33m*\u001b[0m \u001b[0msep\u001b[0m\u001b[1;33m.\u001b[0m\u001b[0mfind_num_cells\u001b[0m\u001b[1;33m(\u001b[0m\u001b[0mside\u001b[0m\u001b[1;33m)\u001b[0m\u001b[1;33m\u001b[0m\u001b[1;33m\u001b[0m\u001b[0m\n\u001b[1;32m---> 36\u001b[1;33m                     return [\n\u001b[0m\u001b[0;32m     37\u001b[0m                         calc_elementary_ac(emitter, collector, sep.normals[output_side], sep.normals[side],\n\u001b[0;32m     38\u001b[0m                                            sep.cell) for collector in sep.breaks[side]]\n",
      "\u001b[1;32m~\\MethodOfAngularCoefficients\\tube.py\u001b[0m in \u001b[0;36m<listcomp>\u001b[1;34m(.0)\u001b[0m\n\u001b[0;32m     35\u001b[0m                         \u001b[1;32mreturn\u001b[0m \u001b[1;33m[\u001b[0m\u001b[1;36m0\u001b[0m\u001b[1;33m]\u001b[0m \u001b[1;33m*\u001b[0m \u001b[0msep\u001b[0m\u001b[1;33m.\u001b[0m\u001b[0mfind_num_cells\u001b[0m\u001b[1;33m(\u001b[0m\u001b[0mside\u001b[0m\u001b[1;33m)\u001b[0m\u001b[1;33m\u001b[0m\u001b[1;33m\u001b[0m\u001b[0m\n\u001b[0;32m     36\u001b[0m                     return [\n\u001b[1;32m---> 37\u001b[1;33m                         calc_elementary_ac(emitter, collector, sep.normals[output_side], sep.normals[side],\n\u001b[0m\u001b[0;32m     38\u001b[0m                                            sep.cell) for collector in sep.breaks[side]]\n\u001b[0;32m     39\u001b[0m \u001b[1;33m\u001b[0m\u001b[0m\n",
      "\u001b[1;32m~\\MethodOfAngularCoefficients\\tube.py\u001b[0m in \u001b[0;36mcalc_elementary_ac\u001b[1;34m(center_i, center_j, normal_i, normal_j, F_j)\u001b[0m\n\u001b[0;32m     15\u001b[0m     \u001b[0mn_i\u001b[0m\u001b[1;33m,\u001b[0m \u001b[0mn_j\u001b[0m \u001b[1;33m=\u001b[0m \u001b[0mnp\u001b[0m\u001b[1;33m.\u001b[0m\u001b[0mlinalg\u001b[0m\u001b[1;33m.\u001b[0m\u001b[0mnorm\u001b[0m\u001b[1;33m(\u001b[0m\u001b[0mnormal_i\u001b[0m\u001b[1;33m)\u001b[0m\u001b[1;33m,\u001b[0m \u001b[0mnp\u001b[0m\u001b[1;33m.\u001b[0m\u001b[0mlinalg\u001b[0m\u001b[1;33m.\u001b[0m\u001b[0mnorm\u001b[0m\u001b[1;33m(\u001b[0m\u001b[0mnormal_j\u001b[0m\u001b[1;33m)\u001b[0m\u001b[1;33m\u001b[0m\u001b[1;33m\u001b[0m\u001b[0m\n\u001b[0;32m     16\u001b[0m \u001b[1;33m\u001b[0m\u001b[0m\n\u001b[1;32m---> 17\u001b[1;33m     \u001b[0mcos_i\u001b[0m \u001b[1;33m=\u001b[0m \u001b[0mabs\u001b[0m\u001b[1;33m(\u001b[0m\u001b[0mnp\u001b[0m\u001b[1;33m.\u001b[0m\u001b[0mdot\u001b[0m\u001b[1;33m(\u001b[0m\u001b[0mnormal_i\u001b[0m\u001b[1;33m,\u001b[0m \u001b[0mr_vector\u001b[0m\u001b[1;33m)\u001b[0m\u001b[1;33m)\u001b[0m \u001b[1;33m/\u001b[0m \u001b[1;33m(\u001b[0m\u001b[0mr\u001b[0m \u001b[1;33m*\u001b[0m \u001b[0mn_i\u001b[0m\u001b[1;33m)\u001b[0m\u001b[1;33m\u001b[0m\u001b[1;33m\u001b[0m\u001b[0m\n\u001b[0m\u001b[0;32m     18\u001b[0m     \u001b[0mcos_j\u001b[0m \u001b[1;33m=\u001b[0m \u001b[0mabs\u001b[0m\u001b[1;33m(\u001b[0m\u001b[0mnp\u001b[0m\u001b[1;33m.\u001b[0m\u001b[0mdot\u001b[0m\u001b[1;33m(\u001b[0m\u001b[0mnormal_j\u001b[0m\u001b[1;33m,\u001b[0m \u001b[0mr_vector\u001b[0m\u001b[1;33m)\u001b[0m\u001b[1;33m)\u001b[0m \u001b[1;33m/\u001b[0m \u001b[1;33m(\u001b[0m\u001b[0mr\u001b[0m \u001b[1;33m*\u001b[0m \u001b[0mn_j\u001b[0m\u001b[1;33m)\u001b[0m\u001b[1;33m\u001b[0m\u001b[1;33m\u001b[0m\u001b[0m\n\u001b[0;32m     19\u001b[0m     \u001b[1;32mreturn\u001b[0m \u001b[0mcos_i\u001b[0m \u001b[1;33m*\u001b[0m \u001b[0mcos_j\u001b[0m \u001b[1;33m/\u001b[0m \u001b[1;33m(\u001b[0m\u001b[0mnp\u001b[0m\u001b[1;33m.\u001b[0m\u001b[0mpi\u001b[0m \u001b[1;33m*\u001b[0m \u001b[0mr\u001b[0m \u001b[1;33m**\u001b[0m \u001b[1;36m2\u001b[0m\u001b[1;33m)\u001b[0m \u001b[1;33m*\u001b[0m \u001b[0mF_j\u001b[0m\u001b[1;33m\u001b[0m\u001b[1;33m\u001b[0m\u001b[0m\n",
      "\u001b[1;32m<__array_function__ internals>\u001b[0m in \u001b[0;36mdot\u001b[1;34m(*args, **kwargs)\u001b[0m\n",
      "\u001b[1;31mKeyboardInterrupt\u001b[0m: "
     ]
    }
   ],
   "source": [
    "create_isolation_graph([0.25, 0.04, 0.01, 0.00078125, 0.0044444444, 0.0025])"
   ]
  },
  {
   "cell_type": "markdown",
   "id": "43db3326",
   "metadata": {},
   "source": [
    "### Проверка взаимности"
   ]
  },
  {
   "cell_type": "code",
   "execution_count": null,
   "id": "72b3e512",
   "metadata": {},
   "outputs": [],
   "source": [
    "def check_mutuality(t, phi):\n",
    "    for i in range(1, len(phi)):\n",
    "        for j in range(1, len(phi[i])):\n",
    "            if round(phi[i][j],5) != round(phi[j][i],5):\n",
    "                print(\"Свойство взаимности не выполнено для i =\", i, \"и j =\", j)\n",
    "                break \n",
    "    print(\"Проверка взаимности a =\", t.a, \"b =\", t.b, \"площади ячейки =\", t.cell, \"закончена\")\n",
    "    print(\"\\n\")   \n",
    "    return"
   ]
  },
  {
   "cell_type": "code",
   "execution_count": null,
   "id": "da46a450",
   "metadata": {},
   "outputs": [],
   "source": [
    "check_mutuality(tube_1, phi_1)\n",
    "check_mutuality(tube_2, phi_2)"
   ]
  },
  {
   "cell_type": "markdown",
   "id": "8e9ef6be",
   "metadata": {},
   "source": [
    "### Проверка аддитивности"
   ]
  },
  {
   "cell_type": "code",
   "execution_count": null,
   "id": "f3352a3d",
   "metadata": {},
   "outputs": [],
   "source": [
    "def check_additivity(t, phi):\n",
    "    for i in range(1,len(phi)):\n",
    "        for j in range(1,len(phi[i])):\n",
    "            if i == j:\n",
    "                break\n",
    "            new_phi = t.check_add(i,j)\n",
    "            if round(new_phi,5) != round(phi[i][j],5):\n",
    "                print(\"Свойство аддитивности не выполнено для i=\", i, \"и для j=\", j)\n",
    "    print(\"Проверка аддитивности для a =\", t.a, \"b =\", t.b, \"площади ячейки =\", t.cell, \"закончена\")\n",
    "    print(\"\\n\")\n",
    "    return "
   ]
  },
  {
   "cell_type": "code",
   "execution_count": null,
   "id": "a5ea8a57",
   "metadata": {
    "scrolled": false
   },
   "outputs": [],
   "source": [
    "check_additivity(tube_1, phi_1)\n",
    "check_additivity(tube_2, phi_2)"
   ]
  }
 ],
 "metadata": {
  "kernelspec": {
   "display_name": "Python 3 (ipykernel)",
   "language": "python",
   "name": "python3"
  },
  "language_info": {
   "codemirror_mode": {
    "name": "ipython",
    "version": 3
   },
   "file_extension": ".py",
   "mimetype": "text/x-python",
   "name": "python",
   "nbconvert_exporter": "python",
   "pygments_lexer": "ipython3",
   "version": "3.9.7"
  }
 },
 "nbformat": 4,
 "nbformat_minor": 5
}
