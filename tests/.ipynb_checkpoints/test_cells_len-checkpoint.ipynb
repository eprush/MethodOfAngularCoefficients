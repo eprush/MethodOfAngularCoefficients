{
 "cells": [
  {
   "cell_type": "markdown",
   "id": "a20a2748",
   "metadata": {},
   "source": [
    "# Расчет проводимости трубопроводов с помощью МУК"
   ]
  },
  {
   "cell_type": "code",
   "execution_count": 1,
   "id": "745be120",
   "metadata": {},
   "outputs": [
    {
     "ename": "ModuleNotFoundError",
     "evalue": "No module named 'rectangular'",
     "output_type": "error",
     "traceback": [
      "\u001b[1;31m---------------------------------------------------------------------------\u001b[0m",
      "\u001b[1;31mModuleNotFoundError\u001b[0m                       Traceback (most recent call last)",
      "\u001b[1;32m~\\AppData\\Local\\Temp/ipykernel_1648/1130487753.py\u001b[0m in \u001b[0;36m<module>\u001b[1;34m\u001b[0m\n\u001b[1;32m----> 1\u001b[1;33m \u001b[1;32mfrom\u001b[0m \u001b[0mrectangular\u001b[0m\u001b[1;33m.\u001b[0m\u001b[0mrectangular\u001b[0m \u001b[1;32mimport\u001b[0m \u001b[0mRectangleSeparator\u001b[0m\u001b[1;33m\u001b[0m\u001b[1;33m\u001b[0m\u001b[0m\n\u001b[0m\u001b[0;32m      2\u001b[0m \u001b[1;32mfrom\u001b[0m \u001b[0mgraph\u001b[0m      \u001b[1;32mimport\u001b[0m \u001b[0mcustomize_graph\u001b[0m\u001b[1;33m,\u001b[0m \u001b[0msave_graph\u001b[0m\u001b[1;33m\u001b[0m\u001b[1;33m\u001b[0m\u001b[0m\n\u001b[0;32m      3\u001b[0m \u001b[1;32mfrom\u001b[0m \u001b[0mmatplotlib\u001b[0m \u001b[1;32mimport\u001b[0m \u001b[0mpyplot\u001b[0m \u001b[1;32mas\u001b[0m \u001b[0mplt\u001b[0m\u001b[1;33m\u001b[0m\u001b[1;33m\u001b[0m\u001b[0m\n\u001b[0;32m      4\u001b[0m \u001b[1;32mfrom\u001b[0m \u001b[0mtube\u001b[0m       \u001b[1;32mimport\u001b[0m \u001b[0mTube\u001b[0m\u001b[1;33m\u001b[0m\u001b[1;33m\u001b[0m\u001b[0m\n\u001b[0;32m      5\u001b[0m \u001b[1;32mimport\u001b[0m \u001b[0mnumpy\u001b[0m \u001b[1;32mas\u001b[0m \u001b[0mnp\u001b[0m\u001b[1;33m\u001b[0m\u001b[1;33m\u001b[0m\u001b[0m\n",
      "\u001b[1;31mModuleNotFoundError\u001b[0m: No module named 'rectangular'"
     ]
    }
   ],
   "source": [
    "from rectangular.rectangular import RectangleSeparator\n",
    "from graph      import customize_graph, save_graph\n",
    "from matplotlib import pyplot as plt\n",
    "from tube       import Tube\n",
    "import numpy as np"
   ]
  },
  {
   "cell_type": "markdown",
   "id": "6d49634c",
   "metadata": {},
   "source": [
    "# Зависимость от размера ячейки и от длины"
   ]
  },
  {
   "cell_type": "code",
   "execution_count": null,
   "id": "8cbcb554",
   "metadata": {},
   "outputs": [],
   "source": [
    "#ф-ция строит кривую на графике\n",
    "def lines(x, k, name):\n",
    "    plt.scatter(x, k, marker=\"o\", label= name)\n",
    "    return\n",
    "\n",
    "def calc_cells(b):\n",
    "    x   = np.array([0.02, 0.05, 0.1, 0.2])**2\n",
    "    res = []\n",
    "    for cell in x:\n",
    "        tube = Tube(RectangleSeparator(1,b,1,cell))\n",
    "        k = tube.calc_clausing(tube.create_sle())\n",
    "        res.append(k)\n",
    "    return res\n",
    "\n",
    "def calc_y(b):\n",
    "    def depend_L(b, cell):\n",
    "        x   = np.linspace(1,10,10)\n",
    "        res = []\n",
    "        for L in x:\n",
    "            tube = Tube(RectangleSeparator(1,b,L,cell))\n",
    "            k = tube.calc_clausing(tube.create_sle())\n",
    "            res.append(k)\n",
    "        return res\n",
    "\n",
    "    y = []\n",
    "    for i in [0.1, 0.05]:\n",
    "        y.append(depend_L(b,i**2))\n",
    "    return y"
   ]
  },
  {
   "cell_type": "code",
   "execution_count": null,
   "id": "f145385d",
   "metadata": {},
   "outputs": [],
   "source": [
    "#ф-ция строит, называет,\n",
    "#выводит и сохраняет график\n",
    "def draw_L(y, b):\n",
    "    x = np.linspace(1,10,10)\n",
    "    customize_graph(\"Проводимость в прямоугольном сечении при b = \" + str(b),\"L/a\")\n",
    "    plt.scatter(x,y[0],marker=\"o\",label= \"С шагом 0.1\")\n",
    "    plt.plot(x,y[0])\n",
    "    plt.scatter(x,y[1],marker=\"o\",label= \"С шагом 0.05\")\n",
    "    plt.plot(x,y[1])\n",
    "    plt.legend()\n",
    "    \n",
    "    dirname = os.getcwd()\n",
    "    folder_path = os.path.join(dirname, \"rectangular\",\"Media\") \n",
    "    save_graph(\"b\" + str(b) + \".png\",foldert_path)\n",
    "    plt.show()\n",
    "    return\n",
    "\n",
    "def draw_cells(y,b):\n",
    "    x = np.array([0.02, 0.05, 0.1, 0.2])**2\n",
    "    customize_graph(\"Проводимость в прямоугольном сечении при b = \" + str(b),\"Площадь ячейки\")\n",
    "    plt.plot(x,y,marker=\"o\")\n",
    "    dirname = os.getcwd()\n",
    "    folder_path = os.path.join(dirname, \"rectangular\",\"Media\") \n",
    "    save_graph(\"b\" + str(b) + \"cells.png\", folder_path)\n",
    "    plt.show()\n",
    "    return"
   ]
  },
  {
   "cell_type": "code",
   "execution_count": null,
   "id": "a1946475",
   "metadata": {},
   "outputs": [],
   "source": [
    "for b in [1,5]:\n",
    "    y = calc_y(b)\n",
    "    draw_L(y,b)"
   ]
  },
  {
   "cell_type": "code",
   "execution_count": null,
   "id": "257e2c64",
   "metadata": {},
   "outputs": [],
   "source": [
    "for b in [1,5]:\n",
    "    y = calc_cells(b)\n",
    "    draw_cells(y,b)"
   ]
  }
 ],
 "metadata": {
  "kernelspec": {
   "display_name": "Python 3 (ipykernel)",
   "language": "python",
   "name": "python3"
  },
  "language_info": {
   "codemirror_mode": {
    "name": "ipython",
    "version": 3
   },
   "file_extension": ".py",
   "mimetype": "text/x-python",
   "name": "python",
   "nbconvert_exporter": "python",
   "pygments_lexer": "ipython3",
   "version": "3.9.7"
  }
 },
 "nbformat": 4,
 "nbformat_minor": 5
}
