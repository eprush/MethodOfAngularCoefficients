{
 "cells": [
  {
   "cell_type": "markdown",
   "id": "a20a2748",
   "metadata": {},
   "source": [
    "# Расчет проводимости трубопроводов с помощью МУК"
   ]
  },
  {
   "cell_type": "code",
   "execution_count": 1,
   "id": "745be120",
   "metadata": {},
   "outputs": [],
   "source": [
    "import os\n",
    "import numpy  as np\n",
    "from graph import Graph #собственный класс для графиков\n",
    "import rectangular as rect\n",
    "from matplotlib  import pyplot as plt"
   ]
  },
  {
   "cell_type": "markdown",
   "id": "6d49634c",
   "metadata": {},
   "source": [
    "# Графики"
   ]
  },
  {
   "cell_type": "code",
   "execution_count": 2,
   "id": "8cbcb554",
   "metadata": {},
   "outputs": [],
   "source": [
    "#ф-ция строит кривую на графике\n",
    "def lines(x, k, name):\n",
    "    plt.scatter(x, k, marker=\"o\", label= name)\n",
    "    #plt.plot(x, k)\n",
    "    return\n",
    "\n",
    "def calc_cells(b):\n",
    "    x   = np.array([0.05, 0.1, 0.2, 0.25, 0.5])**2\n",
    "    res = []\n",
    "    for cell in x:\n",
    "        k = rect.clausing(rect.Tube(1,b,1,cell).matrix())\n",
    "        res.append(k)\n",
    "    return res\n",
    "\n",
    "def calc_y(b):\n",
    "    def depend_L(b, cell):\n",
    "        x   = np.linspace(1,10,10)\n",
    "        res = []\n",
    "        for L in x:\n",
    "            k = rect.clausing(rect.Tube(1,b,L,cell).matrix())\n",
    "            res.append(k)\n",
    "        return res\n",
    "\n",
    "    y = []\n",
    "    for i in [0.1, 0.05]:\n",
    "        y.append(depend_L(b,i**2))\n",
    "    return y"
   ]
  },
  {
   "cell_type": "code",
   "execution_count": 3,
   "id": "f145385d",
   "metadata": {},
   "outputs": [],
   "source": [
    "#ф-ция строит, называет,\n",
    "#выводит и сохраняет график\n",
    "def draw_L(y, b):\n",
    "    x    = np.linspace(1,10,10)\n",
    "    graph= Graph()\n",
    "    graph.customize_graph(\"Проводимость в прямоугольном сечении при b = \" + str(b),\"L/a\")\n",
    "    plt.scatter(x,y[0],marker=\"o\",label= \"С шагом 0.1\")\n",
    "    plt.plot(x,y[0])\n",
    "    plt.scatter(x,y[1],marker=\"o\",label= \"С шагом 0.05\")\n",
    "    plt.plot(x,y[1])\n",
    "    plt.legend()\n",
    "    \n",
    "    graph.save(\"b\" + str(b) + \".png\",\"rectangular\")\n",
    "    plt.show()\n",
    "    return\n",
    "\n",
    "def draw_cells(y,b):\n",
    "    x    = np.array([0.05, 0.1, 0.2, 0.25, 0.5])**2\n",
    "    graph= Graph()\n",
    "    graph.customize_graph(\"Проводимость в прямоугольном сечении при b = \" + str(b),\"Площадь ячейки\")\n",
    "    plt.plot(x,y,marker=\"o\")\n",
    "    graph.save(\"b\" + str(b) + \"cells.png\",\"rectangular\")\n",
    "    plt.show()\n",
    "    return"
   ]
  },
  {
   "cell_type": "code",
   "execution_count": null,
   "id": "a1946475",
   "metadata": {},
   "outputs": [],
   "source": [
    "for b in [1,5]:\n",
    "    y = calc_y(b)\n",
    "    draw_L(y,b)"
   ]
  },
  {
   "cell_type": "code",
   "execution_count": null,
   "id": "257e2c64",
   "metadata": {},
   "outputs": [],
   "source": [
    "for b in [1,5]:\n",
    "    y = calc_cells(b)\n",
    "    draw_cells(y,b)"
   ]
  }
 ],
 "metadata": {
  "kernelspec": {
   "display_name": "Python 3 (ipykernel)",
   "language": "python",
   "name": "python3"
  },
  "language_info": {
   "codemirror_mode": {
    "name": "ipython",
    "version": 3
   },
   "file_extension": ".py",
   "mimetype": "text/x-python",
   "name": "python",
   "nbconvert_exporter": "python",
   "pygments_lexer": "ipython3",
   "version": "3.9.7"
  }
 },
 "nbformat": 4,
 "nbformat_minor": 5
}
